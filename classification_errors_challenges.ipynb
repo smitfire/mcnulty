{
 "cells": [
  {
   "cell_type": "code",
   "execution_count": 106,
   "metadata": {
    "collapsed": true
   },
   "outputs": [],
   "source": [
    "import pandas as pd\n",
    "import numpy as np\n",
    "import matplotlib.pyplot as plt\n",
    "from pprint import pprint as pp\n",
    "import csv\n",
    "import datetime\n",
    "from dateutil.parser import parse\n",
    "from pandas.tools.plotting import scatter_matrix\n",
    "from patsy import dmatrices\n",
    "import statsmodels.formula.api as smf\n",
    "from sklearn import cross_validation\n",
    "from sklearn import datasets\n",
    "from sklearn import svm\n",
    "import seaborn as sns\n",
    "import statsmodels.api as sm\n",
    "import matplotlib as mpl\n",
    "from numpy.random import randn\n",
    "from scipy import stats\n",
    "from pprint import pprint as pp\n",
    "from sklearn.cross_validation import train_test_split\n",
    "from sklearn.neighbors import KNeighborsClassifier\n",
    "from sklearn.linear_model import LogisticRegression\n",
    "from sklearn.metrics import accuracy_score\n",
    "from sklearn.metrics import precision_recall_fscore_support\n",
    "from sklearn.metrics import roc_curve, auc\n",
    "from sklearn.naive_bayes import GaussianNB\n",
    "from sklearn.learning_curve import learning_curve\n",
    "from sklearn.cross_validation import cross_val_score\n",
    "import urllib2\n",
    "\n",
    "%matplotlib inline\n",
    "\n",
    "sns.set_palette(\"deep\", desat=.8)\n",
    "sns.set_context(rc={\"figure.figsize\": (14, 8)})"
   ]
  },
  {
   "cell_type": "code",
   "execution_count": 42,
   "metadata": {
    "collapsed": true
   },
   "outputs": [],
   "source": [
    "# Chalenge 1\n",
    "\n",
    "congressrl = \"https://archive.ics.uci.edu/ml/machine-learning-databases/voting-records/house-votes-84.data\"\n",
    "\n",
    "def get_data(url):\n",
    "    newrl = urllib2.urlopen(url)\n",
    "    return pd.read_csv(newrl, header=-1)\n",
    "\n",
    "def challenge_one():\n",
    "    df            = get_data(congressrl)\n",
    "    df            = df.replace(['y'], [1])\n",
    "    df            = df.replace(['n'], [0])\n",
    "    df = df.replace(\"?\", np.nan)\n",
    "\n",
    "    for num in list(xrange(1,17)):\n",
    "        df[num] = df[num].replace(np.nan, df[num].mean())\n",
    "\n",
    "    return df\n",
    "\n",
    "\n",
    "df = challenge_one()"
   ]
  },
  {
   "cell_type": "code",
   "execution_count": 43,
   "metadata": {
    "collapsed": true
   },
   "outputs": [],
   "source": [
    "model                   = LogisticRegression()\n",
    "x_all                   = df.iloc[:,1:]\n",
    "y_all                   = df.iloc[:,0]\n",
    "train, test     = train_test_split(df, train_size = 0.8)\n"
   ]
  },
  {
   "cell_type": "code",
   "execution_count": 44,
   "metadata": {
    "collapsed": true
   },
   "outputs": [],
   "source": [
    "x_train  = train.iloc[:,1:]\n",
    "y_train  = train.iloc[:,0]\n",
    "x_test   = test.iloc[:,1:]\n",
    "y_test   = test.iloc[:,0]"
   ]
  },
  {
   "cell_type": "code",
   "execution_count": 45,
   "metadata": {
    "collapsed": false
   },
   "outputs": [
    {
     "name": "stdout",
     "output_type": "stream",
     "text": [
      "Accuracy is:\n"
     ]
    },
    {
     "data": {
      "text/plain": [
       "0.97701149425287359"
      ]
     },
     "execution_count": 45,
     "metadata": {},
     "output_type": "execute_result"
    }
   ],
   "source": [
    "model.fit(x_train, y_train)\n",
    "y_pred  = model.predict(x_test)\n",
    "a_score = accuracy_score(y_test, y_pred)\n",
    "print \"Accuracy is:\"\n",
    "a_score"
   ]
  },
  {
   "cell_type": "code",
   "execution_count": 46,
   "metadata": {
    "collapsed": false
   },
   "outputs": [
    {
     "name": "stdout",
     "output_type": "stream",
     "text": [
      "Precision is:\n"
     ]
    },
    {
     "data": {
      "text/plain": [
       "0.98245614035087714"
      ]
     },
     "execution_count": 46,
     "metadata": {},
     "output_type": "execute_result"
    }
   ],
   "source": [
    "stuff = precision_recall_fscore_support(y_test, y_pred)\n",
    "print \"Precision is:\"\n",
    "stuff[0][0]"
   ]
  },
  {
   "cell_type": "code",
   "execution_count": 47,
   "metadata": {
    "collapsed": false
   },
   "outputs": [
    {
     "name": "stdout",
     "output_type": "stream",
     "text": [
      "Recall is:\n"
     ]
    },
    {
     "data": {
      "text/plain": [
       "0.98245614035087714"
      ]
     },
     "execution_count": 47,
     "metadata": {},
     "output_type": "execute_result"
    }
   ],
   "source": [
    "print \"Recall is:\"\n",
    "stuff[1][0]"
   ]
  },
  {
   "cell_type": "code",
   "execution_count": 48,
   "metadata": {
    "collapsed": false
   },
   "outputs": [
    {
     "name": "stdout",
     "output_type": "stream",
     "text": [
      "F1 is:\n"
     ]
    },
    {
     "data": {
      "text/plain": [
       "0.98245614035087714"
      ]
     },
     "execution_count": 48,
     "metadata": {},
     "output_type": "execute_result"
    }
   ],
   "source": [
    "print \"F1 is:\"\n",
    "stuff[2][0]"
   ]
  },
  {
   "cell_type": "code",
   "execution_count": 49,
   "metadata": {
    "collapsed": false
   },
   "outputs": [
    {
     "name": "stdout",
     "output_type": "stream",
     "text": [
      "Accuracy is:\n"
     ]
    },
    {
     "data": {
      "text/plain": [
       "0.95402298850574707"
      ]
     },
     "execution_count": 49,
     "metadata": {},
     "output_type": "execute_result"
    }
   ],
   "source": [
    "model = KNeighborsClassifier(n_neighbors=16)\n",
    "model.fit(x_train, y_train)\n",
    "y_pred  = model.predict(x_test)\n",
    "a_score = accuracy_score(y_test, y_pred)\n",
    "print \"Accuracy is:\"\n",
    "a_score"
   ]
  },
  {
   "cell_type": "code",
   "execution_count": 50,
   "metadata": {
    "collapsed": false
   },
   "outputs": [
    {
     "name": "stdout",
     "output_type": "stream",
     "text": [
      "Precision is:\n"
     ]
    },
    {
     "data": {
      "text/plain": [
       "0.98181818181818181"
      ]
     },
     "execution_count": 50,
     "metadata": {},
     "output_type": "execute_result"
    }
   ],
   "source": [
    "stuff = precision_recall_fscore_support(y_test, y_pred)\n",
    "print \"Precision is:\"\n",
    "stuff[0][0]"
   ]
  },
  {
   "cell_type": "code",
   "execution_count": 51,
   "metadata": {
    "collapsed": false
   },
   "outputs": [
    {
     "name": "stdout",
     "output_type": "stream",
     "text": [
      "Recall is:\n"
     ]
    },
    {
     "data": {
      "text/plain": [
       "0.94736842105263153"
      ]
     },
     "execution_count": 51,
     "metadata": {},
     "output_type": "execute_result"
    }
   ],
   "source": [
    "print \"Recall is:\"\n",
    "stuff[1][0]"
   ]
  },
  {
   "cell_type": "code",
   "execution_count": 52,
   "metadata": {
    "collapsed": false
   },
   "outputs": [
    {
     "name": "stdout",
     "output_type": "stream",
     "text": [
      "F1 is:\n"
     ]
    },
    {
     "data": {
      "text/plain": [
       "0.96428571428571419"
      ]
     },
     "execution_count": 52,
     "metadata": {},
     "output_type": "execute_result"
    }
   ],
   "source": [
    "print \"F1 is:\"\n",
    "stuff[2][0]"
   ]
  },
  {
   "cell_type": "code",
   "execution_count": 53,
   "metadata": {
    "collapsed": false
   },
   "outputs": [
    {
     "name": "stdout",
     "output_type": "stream",
     "text": [
      "Accuracy is:\n"
     ]
    },
    {
     "data": {
      "text/plain": [
       "0.97701149425287359"
      ]
     },
     "execution_count": 53,
     "metadata": {},
     "output_type": "execute_result"
    }
   ],
   "source": [
    "model   = LogisticRegression()\n",
    "model.fit(x_train, y_train)\n",
    "y_pred  = model.predict(x_test)\n",
    "a_score = accuracy_score(y_test, y_pred)\n",
    "print \"Accuracy is:\"\n",
    "a_score"
   ]
  },
  {
   "cell_type": "code",
   "execution_count": 54,
   "metadata": {
    "collapsed": false
   },
   "outputs": [
    {
     "name": "stdout",
     "output_type": "stream",
     "text": [
      "Precision is:\n"
     ]
    },
    {
     "data": {
      "text/plain": [
       "0.98245614035087714"
      ]
     },
     "execution_count": 54,
     "metadata": {},
     "output_type": "execute_result"
    }
   ],
   "source": [
    "stuff = precision_recall_fscore_support(y_test, y_pred)\n",
    "print \"Precision is:\"\n",
    "stuff[0][0]"
   ]
  },
  {
   "cell_type": "code",
   "execution_count": 55,
   "metadata": {
    "collapsed": false
   },
   "outputs": [
    {
     "name": "stdout",
     "output_type": "stream",
     "text": [
      "Recall is:\n"
     ]
    },
    {
     "data": {
      "text/plain": [
       "0.98245614035087714"
      ]
     },
     "execution_count": 55,
     "metadata": {},
     "output_type": "execute_result"
    }
   ],
   "source": [
    "print \"Recall is:\"\n",
    "stuff[1][0]"
   ]
  },
  {
   "cell_type": "code",
   "execution_count": 56,
   "metadata": {
    "collapsed": false
   },
   "outputs": [
    {
     "name": "stdout",
     "output_type": "stream",
     "text": [
      "F1 is:\n"
     ]
    },
    {
     "data": {
      "text/plain": [
       "0.98245614035087714"
      ]
     },
     "execution_count": 56,
     "metadata": {},
     "output_type": "execute_result"
    }
   ],
   "source": [
    "print \"F1 is:\"\n",
    "stuff[2][0]"
   ]
  },
  {
   "cell_type": "code",
   "execution_count": 57,
   "metadata": {
    "collapsed": false
   },
   "outputs": [
    {
     "name": "stdout",
     "output_type": "stream",
     "text": [
      "Accuracy is:\n",
      "0.954022988506\n",
      "Precision is:\n",
      "0.964912280702\n",
      "Recall is:\n",
      "0.964912280702\n",
      "F1 is:\n",
      "0.964912280702\n"
     ]
    }
   ],
   "source": [
    "model                   = GaussianNB()\n",
    "model.fit(x_train, y_train)\n",
    "y_pred  = model.predict(x_test)\n",
    "a_score = accuracy_score(y_test, y_pred)\n",
    "stuff = precision_recall_fscore_support(y_test, y_pred)\n",
    "print \"Accuracy is:\"\n",
    "print a_score\n",
    "print \"Precision is:\"\n",
    "print stuff[0][0]\n",
    "print \"Recall is:\"\n",
    "print stuff[1][0]\n",
    "print \"F1 is:\"\n",
    "print stuff[2][0]"
   ]
  },
  {
   "cell_type": "code",
   "execution_count": 58,
   "metadata": {
    "collapsed": false
   },
   "outputs": [
    {
     "name": "stdout",
     "output_type": "stream",
     "text": [
      "Accuracy is:\n",
      "0.965517241379\n",
      "Precision is:\n",
      "0.982142857143\n",
      "Recall is:\n",
      "0.964912280702\n",
      "F1 is:\n",
      "0.973451327434\n"
     ]
    }
   ],
   "source": [
    "from sklearn.svm import SVC\n",
    "model                   = SVC()\n",
    "model.fit(x_train, y_train)\n",
    "y_pred  = model.predict(x_test)\n",
    "a_score = accuracy_score(y_test, y_pred)\n",
    "stuff = precision_recall_fscore_support(y_test, y_pred)\n",
    "print \"Accuracy is:\"\n",
    "print a_score\n",
    "print \"Precision is:\"\n",
    "print stuff[0][0]\n",
    "print \"Recall is:\"\n",
    "print stuff[1][0]\n",
    "print \"F1 is:\"\n",
    "print stuff[2][0]"
   ]
  },
  {
   "cell_type": "code",
   "execution_count": 59,
   "metadata": {
    "collapsed": false
   },
   "outputs": [
    {
     "name": "stdout",
     "output_type": "stream",
     "text": [
      "Accuracy is:\n",
      "0.965517241379\n",
      "Precision is:\n",
      "1.0\n",
      "Recall is:\n",
      "0.947368421053\n",
      "F1 is:\n",
      "0.972972972973\n"
     ]
    }
   ],
   "source": [
    "from sklearn.tree import DecisionTreeClassifier\n",
    "\n",
    "model                   = DecisionTreeClassifier()\n",
    "\n",
    "model.fit(x_train, y_train)\n",
    "y_pred  = model.predict(x_test)\n",
    "a_score = accuracy_score(y_test, y_pred)\n",
    "stuff = precision_recall_fscore_support(y_test, y_pred)\n",
    "print \"Accuracy is:\"\n",
    "print a_score\n",
    "print \"Precision is:\"\n",
    "print stuff[0][0]\n",
    "print \"Recall is:\"\n",
    "print stuff[1][0]\n",
    "print \"F1 is:\"\n",
    "print stuff[2][0]"
   ]
  },
  {
   "cell_type": "code",
   "execution_count": 60,
   "metadata": {
    "collapsed": false
   },
   "outputs": [
    {
     "name": "stdout",
     "output_type": "stream",
     "text": [
      "Accuracy is:\n",
      "0.988505747126\n",
      "Precision is:\n",
      "1.0\n",
      "Recall is:\n",
      "0.982456140351\n",
      "F1 is:\n",
      "0.991150442478\n"
     ]
    }
   ],
   "source": [
    "from sklearn.ensemble import RandomForestClassifier\n",
    "\n",
    "model                   = RandomForestClassifier()\n",
    "model.fit(x_train, y_train)\n",
    "y_pred  = model.predict(x_test)\n",
    "a_score = accuracy_score(y_test, y_pred)\n",
    "stuff = precision_recall_fscore_support(y_test, y_pred)\n",
    "print \"Accuracy is:\"\n",
    "print a_score\n",
    "print \"Precision is:\"\n",
    "print stuff[0][0]\n",
    "print \"Recall is:\"\n",
    "print stuff[1][0]\n",
    "print \"F1 is:\"\n",
    "print stuff[2][0]"
   ]
  },
  {
   "cell_type": "code",
   "execution_count": 61,
   "metadata": {
    "collapsed": false
   },
   "outputs": [],
   "source": [
    "# Challenge 2\n",
    "x_all                   = df.iloc[:,1:]\n",
    "y_all                   = df.iloc[:,0]\n",
    "train, test     = train_test_split(df, train_size = 0.8)\n",
    "x_train  = train.iloc[:,1:]\n",
    "y_train  = train.iloc[:,0]\n",
    "x_test   = test.iloc[:,1:]\n",
    "y_test   = test.iloc[:,0]"
   ]
  },
  {
   "cell_type": "code",
   "execution_count": 98,
   "metadata": {
    "collapsed": false
   },
   "outputs": [
    {
     "name": "stdout",
     "output_type": "stream",
     "text": [
      "AUC is: 0.992866\n"
     ]
    },
    {
     "data": {
      "text/plain": [
       "[<matplotlib.lines.Line2D at 0x113e222d0>]"
      ]
     },
     "execution_count": 98,
     "metadata": {},
     "output_type": "execute_result"
    },
    {
     "data": {
      "image/png": "[encoded data removed]",
      "text/plain": [
       "<matplotlib.figure.Figure at 0x113c22290>"
      ]
     },
     "metadata": {},
     "output_type": "display_data"
    }
   ],
   "source": [
    "model                   = LogisticRegression()\n",
    "probas_ = model.fit(x_train, y_train)\n",
    "y_pred_proba  = model.predict_proba(x_test)\n",
    "fpr, tpr, thresholds = roc_curve(y_test, y_pred_proba[:, 1], pos_label=\"republican\")\n",
    "roc_auc = auc(fpr, tpr)\n",
    "print \"AUC is: %f\" % roc_auc\n",
    "plt.clf()\n",
    "plt.plot(fpr, tpr, label='ROC curve (area = %0.2f)' % roc_auc)"
   ]
  },
  {
   "cell_type": "code",
   "execution_count": 97,
   "metadata": {
    "collapsed": false
   },
   "outputs": [
    {
     "name": "stdout",
     "output_type": "stream",
     "text": [
      "AUC is: 0.989001\n"
     ]
    },
    {
     "data": {
      "text/plain": [
       "[<matplotlib.lines.Line2D at 0x113bd9950>]"
      ]
     },
     "execution_count": 97,
     "metadata": {},
     "output_type": "execute_result"
    },
    {
     "data": {
      "image/png": "[encoded data removed]",
      "text/plain": [
       "<matplotlib.figure.Figure at 0x11395d410>"
      ]
     },
     "metadata": {},
     "output_type": "display_data"
    }
   ],
   "source": [
    "model = KNeighborsClassifier(n_neighbors=16)\n",
    "probas_ = model.fit(x_train, y_train)\n",
    "y_pred_proba  = model.predict_proba(x_test)\n",
    "fpr, tpr, thresholds = roc_curve(y_test, y_pred_proba[:, 1], pos_label=\"republican\")\n",
    "roc_auc = auc(fpr, tpr)\n",
    "print \"AUC is: %f\" % roc_auc\n",
    "plt.clf()\n",
    "plt.plot(fpr, tpr, label='ROC curve (area = %0.2f)' % roc_auc)"
   ]
  },
  {
   "cell_type": "code",
   "execution_count": 99,
   "metadata": {
    "collapsed": false
   },
   "outputs": [
    {
     "name": "stdout",
     "output_type": "stream",
     "text": [
      "AUC is: 0.947384\n"
     ]
    },
    {
     "data": {
      "text/plain": [
       "[<matplotlib.lines.Line2D at 0x113f69a50>]"
      ]
     },
     "execution_count": 99,
     "metadata": {},
     "output_type": "execute_result"
    },
    {
     "data": {
      "image/png": "[encoded data removed]",
      "text/plain": [
       "<matplotlib.figure.Figure at 0x113c3c8d0>"
      ]
     },
     "metadata": {},
     "output_type": "display_data"
    }
   ],
   "source": [
    "model                   = GaussianNB()\n",
    "probas_ = model.fit(x_train, y_train)\n",
    "y_pred_proba  = model.predict_proba(x_test)\n",
    "fpr, tpr, thresholds = roc_curve(y_test, y_pred_proba[:, 1], pos_label=\"republican\")\n",
    "roc_auc = auc(fpr, tpr)\n",
    "print \"AUC is: %f\" % roc_auc\n",
    "plt.clf()\n",
    "plt.plot(fpr, tpr, label='ROC curve (area = %0.2f)' % roc_auc)"
   ]
  },
  {
   "cell_type": "code",
   "execution_count": 102,
   "metadata": {
    "collapsed": false
   },
   "outputs": [
    {
     "name": "stdout",
     "output_type": "stream",
     "text": [
      "AUC is: 0.995838\n"
     ]
    },
    {
     "data": {
      "text/plain": [
       "[<matplotlib.lines.Line2D at 0x1147aa810>]"
      ]
     },
     "execution_count": 102,
     "metadata": {},
     "output_type": "execute_result"
    },
    {
     "data": {
      "image/png": "[encoded data removed]",
      "text/plain": [
       "<matplotlib.figure.Figure at 0x114160e90>"
      ]
     },
     "metadata": {},
     "output_type": "display_data"
    }
   ],
   "source": [
    "model                   = SVC(kernel=\"linear\", probability=True)\n",
    "probas_ = model.fit(x_train, y_train)\n",
    "y_pred_proba  = model.predict_proba(x_test)\n",
    "fpr, tpr, thresholds = roc_curve(y_test, y_pred_proba[:, 1], pos_label=\"republican\")\n",
    "roc_auc = auc(fpr, tpr)\n",
    "print \"AUC is: %f\" % roc_auc\n",
    "plt.clf()\n",
    "plt.plot(fpr, tpr, label='ROC curve (area = %0.2f)' % roc_auc)"
   ]
  },
  {
   "cell_type": "code",
   "execution_count": 103,
   "metadata": {
    "collapsed": false
   },
   "outputs": [
    {
     "name": "stdout",
     "output_type": "stream",
     "text": [
      "AUC is: 0.896552\n"
     ]
    },
    {
     "data": {
      "text/plain": [
       "[<matplotlib.lines.Line2D at 0x1149d1f90>]"
      ]
     },
     "execution_count": 103,
     "metadata": {},
     "output_type": "execute_result"
    },
    {
     "data": {
      "image/png": "[encoded data removed]",
      "text/plain": [
       "<matplotlib.figure.Figure at 0x113241f10>"
      ]
     },
     "metadata": {},
     "output_type": "display_data"
    }
   ],
   "source": [
    "model                   = DecisionTreeClassifier()\n",
    "probas_ = model.fit(x_train, y_train)\n",
    "y_pred_proba  = model.predict_proba(x_test)\n",
    "fpr, tpr, thresholds = roc_curve(y_test, y_pred_proba[:, 1], pos_label=\"republican\")\n",
    "roc_auc = auc(fpr, tpr)\n",
    "print \"AUC is: %f\" % roc_auc\n",
    "plt.clf()\n",
    "plt.plot(fpr, tpr, label='ROC curve (area = %0.2f)' % roc_auc)"
   ]
  },
  {
   "cell_type": "code",
   "execution_count": 109,
   "metadata": {
    "collapsed": false
   },
   "outputs": [
    {
     "name": "stdout",
     "output_type": "stream",
     "text": [
      "AUC is: 0.992568\n"
     ]
    },
    {
     "data": {
      "text/plain": [
       "[<matplotlib.lines.Line2D at 0x114ea2890>]"
      ]
     },
     "execution_count": 109,
     "metadata": {},
     "output_type": "execute_result"
    },
    {
     "data": {
      "image/png": "[encoded data removed]",
      "text/plain": [
       "<matplotlib.figure.Figure at 0x11477a2d0>"
      ]
     },
     "metadata": {},
     "output_type": "display_data"
    }
   ],
   "source": [
    "model                   = RandomForestClassifier()\n",
    "model.fit(x_train, y_train)\n",
    "y_pred_proba  = model.predict_proba(x_test)\n",
    "fpr, tpr, thresholds = roc_curve(y_test, y_pred_proba[:, 1], pos_label=\"republican\")\n",
    "roc_auc = auc(fpr, tpr)\n",
    "print \"AUC is: %f\" % roc_auc\n",
    "plt.clf()\n",
    "plt.plot(fpr, tpr, label='ROC curve (area = %0.2f)' % roc_auc)"
   ]
  },
  {
   "cell_type": "code",
   "execution_count": 153,
   "metadata": {
    "collapsed": false
   },
   "outputs": [
    {
     "name": "stdout",
     "output_type": "stream",
     "text": [
      "Accuracy: 0.952381\n",
      "Precision: 0.949399\n",
      "Recall: 0.952381\n",
      "F1: 0.950059\n"
     ]
    }
   ],
   "source": [
    "# Challenge 3\n",
    "from sklearn import metrics, preprocessing\n",
    "\n",
    "df = challenge_one()\n",
    "df = df.replace(['democrat', 'republican'], [0,1])\n",
    "x_all                   = df.iloc[:,1:]\n",
    "y_all                   = df.iloc[:,0]\n",
    "model = LogisticRegression()\n",
    "avg_acc = np.mean(cross_val_score(model, x_all, y_all, scoring='recall'))\n",
    "avg_precision = np.mean(cross_val_score(model, x_all, y_all, scoring='precision'))\n",
    "avg_recall = np.mean(cross_val_score(model, x_all, y_all, scoring='recall'))\n",
    "avg_f1 = np.mean(cross_val_score(model, x_all, y_all, scoring='f1'))\n",
    "print \"Accuracy: %f\" % avg_acc\n",
    "print \"Precision: %f\" % avg_precision\n",
    "print \"Recall: %f\" % avg_recall\n",
    "print \"F1: %f\" % avg_f1"
   ]
  },
  {
   "cell_type": "code",
   "execution_count": 154,
   "metadata": {
    "collapsed": false
   },
   "outputs": [
    {
     "name": "stdout",
     "output_type": "stream",
     "text": [
      "Accuracy: 0.916667\n",
      "Precision: 0.908613\n",
      "Recall: 0.916667\n",
      "F1: 0.911185\n"
     ]
    }
   ],
   "source": [
    "model = GaussianNB()\n",
    "avg_acc = np.mean(cross_val_score(model, x_all, y_all, scoring='recall'))\n",
    "avg_precision = np.mean(cross_val_score(model, x_all, y_all, scoring='precision'))\n",
    "avg_recall = np.mean(cross_val_score(model, x_all, y_all, scoring='recall'))\n",
    "avg_f1 = np.mean(cross_val_score(model, x_all, y_all, scoring='f1'))\n",
    "print \"Accuracy: %f\" % avg_acc\n",
    "print \"Precision: %f\" % avg_precision\n",
    "print \"Recall: %f\" % avg_recall\n",
    "print \"F1: %f\" % avg_f1"
   ]
  },
  {
   "cell_type": "code",
   "execution_count": 155,
   "metadata": {
    "collapsed": false
   },
   "outputs": [
    {
     "name": "stdout",
     "output_type": "stream",
     "text": [
      "Accuracy: 0.964286\n",
      "Precision: 0.922271\n",
      "Recall: 0.964286\n",
      "F1: 0.942184\n"
     ]
    }
   ],
   "source": [
    "model = SVC()\n",
    "avg_acc = np.mean(cross_val_score(model, x_all, y_all, scoring='recall'))\n",
    "avg_precision = np.mean(cross_val_score(model, x_all, y_all, scoring='precision'))\n",
    "avg_recall = np.mean(cross_val_score(model, x_all, y_all, scoring='recall'))\n",
    "avg_f1 = np.mean(cross_val_score(model, x_all, y_all, scoring='f1'))\n",
    "print \"Accuracy: %f\" % avg_acc\n",
    "print \"Precision: %f\" % avg_precision\n",
    "print \"Recall: %f\" % avg_recall\n",
    "print \"F1: %f\" % avg_f1"
   ]
  },
  {
   "cell_type": "code",
   "execution_count": null,
   "metadata": {
    "collapsed": true
   },
   "outputs": [],
   "source": [
    "model = LogisticRegression()\n",
    "avg_acc = np.mean(cross_val_score(model, x_all, y_all, scoring='recall'))\n",
    "avg_precision = np.mean(cross_val_score(model, x_all, y_all, scoring='precision'))\n",
    "avg_recall = np.mean(cross_val_score(model, x_all, y_all, scoring='recall'))\n",
    "avg_f1 = np.mean(cross_val_score(model, x_all, y_all, scoring='f1'))\n",
    "print \"Accuracy: %f\" % avg_acc\n",
    "print \"Precision: %f\" % avg_precision\n",
    "print \"Recall: %f\" % avg_recall\n",
    "print \"F1: %f\" % avg_f1"
   ]
  }
 ],
 "metadata": {
  "kernelspec": {
   "display_name": "Python 2",
   "language": "python",
   "name": "python2"
  },
  "language_info": {
   "codemirror_mode": {
    "name": "ipython",
    "version": 2
   },
   "file_extension": ".py",
   "mimetype": "text/x-python",
   "name": "python",
   "nbconvert_exporter": "python",
   "pygments_lexer": "ipython2",
   "version": "2.7.9"
  }
 },
 "nbformat": 4,
 "nbformat_minor": 0
}
