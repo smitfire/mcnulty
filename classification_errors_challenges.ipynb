{
 "cells": [
  {
   "cell_type": "code",
   "execution_count": 27,
   "metadata": {
    "collapsed": true
   },
   "outputs": [],
   "source": [
    "import pandas as pd\n",
    "import numpy as np\n",
    "import matplotlib.pyplot as plt\n",
    "from pprint import pprint as pp\n",
    "import csv\n",
    "import datetime\n",
    "from dateutil.parser import parse\n",
    "from pandas.tools.plotting import scatter_matrix\n",
    "from patsy import dmatrices\n",
    "import statsmodels.formula.api as smf\n",
    "from sklearn import cross_validation\n",
    "from sklearn import datasets\n",
    "from sklearn import svm\n",
    "import seaborn as sns\n",
    "import statsmodels.api as sm\n",
    "import matplotlib as mpl\n",
    "from numpy.random import randn\n",
    "from scipy import stats\n",
    "from pprint import pprint as pp\n",
    "from sklearn.cross_validation import train_test_split\n",
    "from sklearn.neighbors import KNeighborsClassifier\n",
    "from sklearn.linear_model import LogisticRegression\n",
    "from sklearn.metrics import accuracy_score\n",
    "from sklearn.metrics import precision_recall_fscore_support\n",
    "from sklearn.naive_bayes import GaussianNB\n",
    "import urllib2\n",
    "\n",
    "%matplotlib inline\n",
    "\n",
    "sns.set_palette(\"deep\", desat=.8)\n",
    "sns.set_context(rc={\"figure.figsize\": (14, 8)})"
   ]
  },
  {
   "cell_type": "code",
   "execution_count": 3,
   "metadata": {
    "collapsed": true
   },
   "outputs": [],
   "source": [
    "# Chalenge 1\n",
    "\n",
    "congressrl = \"https://archive.ics.uci.edu/ml/machine-learning-databases/voting-records/house-votes-84.data\"\n",
    "\n",
    "def get_data(url):\n",
    "    newrl = urllib2.urlopen(url)\n",
    "    return pd.read_csv(newrl, header=-1)\n",
    "\n",
    "def challenge_one():\n",
    "    df            = get_data(congressrl)\n",
    "    df            = df.replace(['y'], [1])\n",
    "    df            = df.replace(['n'], [0])\n",
    "    df = df.replace(\"?\", np.nan)\n",
    "\n",
    "    for num in list(xrange(1,17)):\n",
    "        df[num] = df[num].replace(np.nan, df[num].mean())\n",
    "\n",
    "    return df\n",
    "\n",
    "\n",
    "df = challenge_one()"
   ]
  },
  {
   "cell_type": "code",
   "execution_count": 4,
   "metadata": {
    "collapsed": true
   },
   "outputs": [],
   "source": [
    "model                   = LogisticRegression()\n",
    "x_all                   = df.iloc[:,1:]\n",
    "y_all                   = df.iloc[:,0]\n",
    "train, test     = train_test_split(df, train_size = 0.8)\n"
   ]
  },
  {
   "cell_type": "code",
   "execution_count": 5,
   "metadata": {
    "collapsed": true
   },
   "outputs": [],
   "source": [
    "x_train  = train.iloc[:,1:]\n",
    "y_train  = train.iloc[:,0]\n",
    "x_test   = test.iloc[:,1:]\n",
    "y_test   = test.iloc[:,0]"
   ]
  },
  {
   "cell_type": "code",
   "execution_count": 9,
   "metadata": {
    "collapsed": false
   },
   "outputs": [
    {
     "name": "stdout",
     "output_type": "stream",
     "text": [
      "Accuracy is:\n"
     ]
    },
    {
     "data": {
      "text/plain": [
       "0.9885057471264368"
      ]
     },
     "execution_count": 9,
     "metadata": {},
     "output_type": "execute_result"
    }
   ],
   "source": [
    "model.fit(x_train, y_train)\n",
    "y_pred  = model.predict(x_test)\n",
    "a_score = accuracy_score(y_test, y_pred)\n",
    "print \"Accuracy is:\"\n",
    "a_score"
   ]
  },
  {
   "cell_type": "code",
   "execution_count": 14,
   "metadata": {
    "collapsed": false
   },
   "outputs": [
    {
     "name": "stdout",
     "output_type": "stream",
     "text": [
      "Precision is:\n"
     ]
    },
    {
     "data": {
      "text/plain": [
       "0.98181818181818181"
      ]
     },
     "execution_count": 14,
     "metadata": {},
     "output_type": "execute_result"
    }
   ],
   "source": [
    "stuff = precision_recall_fscore_support(y_test, y_pred)\n",
    "print \"Precision is:\"\n",
    "stuff[0][0]"
   ]
  },
  {
   "cell_type": "code",
   "execution_count": 17,
   "metadata": {
    "collapsed": false
   },
   "outputs": [
    {
     "name": "stdout",
     "output_type": "stream",
     "text": [
      "Recall is:\n"
     ]
    },
    {
     "data": {
      "text/plain": [
       "1.0"
      ]
     },
     "execution_count": 17,
     "metadata": {},
     "output_type": "execute_result"
    }
   ],
   "source": [
    "print \"Recall is:\"\n",
    "stuff[1][0]"
   ]
  },
  {
   "cell_type": "code",
   "execution_count": 21,
   "metadata": {
    "collapsed": false
   },
   "outputs": [
    {
     "name": "stdout",
     "output_type": "stream",
     "text": [
      "F1 is:\n"
     ]
    },
    {
     "data": {
      "text/plain": [
       "0.96226415094339623"
      ]
     },
     "execution_count": 21,
     "metadata": {},
     "output_type": "execute_result"
    }
   ],
   "source": [
    "print \"F1 is:\"\n",
    "stuff[2][0]"
   ]
  },
  {
   "cell_type": "code",
   "execution_count": 18,
   "metadata": {
    "collapsed": false
   },
   "outputs": [
    {
     "name": "stdout",
     "output_type": "stream",
     "text": [
      "Accuracy is:\n"
     ]
    },
    {
     "data": {
      "text/plain": [
       "0.95402298850574707"
      ]
     },
     "execution_count": 18,
     "metadata": {},
     "output_type": "execute_result"
    }
   ],
   "source": [
    "model = KNeighborsClassifier(n_neighbors=16)\n",
    "model.fit(x_train, y_train)\n",
    "y_pred  = model.predict(x_test)\n",
    "a_score = accuracy_score(y_test, y_pred)\n",
    "print \"Accuracy is:\"\n",
    "a_score"
   ]
  },
  {
   "cell_type": "code",
   "execution_count": 19,
   "metadata": {
    "collapsed": false
   },
   "outputs": [
    {
     "name": "stdout",
     "output_type": "stream",
     "text": [
      "Precision is:\n"
     ]
    },
    {
     "data": {
      "text/plain": [
       "0.98076923076923073"
      ]
     },
     "execution_count": 19,
     "metadata": {},
     "output_type": "execute_result"
    }
   ],
   "source": [
    "stuff = precision_recall_fscore_support(y_test, y_pred)\n",
    "print \"Precision is:\"\n",
    "stuff[0][0]"
   ]
  },
  {
   "cell_type": "code",
   "execution_count": 20,
   "metadata": {
    "collapsed": false
   },
   "outputs": [
    {
     "name": "stdout",
     "output_type": "stream",
     "text": [
      "Recall is:\n"
     ]
    },
    {
     "data": {
      "text/plain": [
       "0.94444444444444442"
      ]
     },
     "execution_count": 20,
     "metadata": {},
     "output_type": "execute_result"
    }
   ],
   "source": [
    "print \"Recall is:\"\n",
    "stuff[1][0]"
   ]
  },
  {
   "cell_type": "code",
   "execution_count": 22,
   "metadata": {
    "collapsed": false
   },
   "outputs": [
    {
     "name": "stdout",
     "output_type": "stream",
     "text": [
      "F1 is:\n"
     ]
    },
    {
     "data": {
      "text/plain": [
       "0.96226415094339623"
      ]
     },
     "execution_count": 22,
     "metadata": {},
     "output_type": "execute_result"
    }
   ],
   "source": [
    "print \"F1 is:\"\n",
    "stuff[2][0]"
   ]
  },
  {
   "cell_type": "code",
   "execution_count": 23,
   "metadata": {
    "collapsed": false
   },
   "outputs": [
    {
     "name": "stdout",
     "output_type": "stream",
     "text": [
      "Accuracy is:\n"
     ]
    },
    {
     "data": {
      "text/plain": [
       "0.9885057471264368"
      ]
     },
     "execution_count": 23,
     "metadata": {},
     "output_type": "execute_result"
    }
   ],
   "source": [
    "model   = LogisticRegression()\n",
    "model.fit(x_train, y_train)\n",
    "y_pred  = model.predict(x_test)\n",
    "a_score = accuracy_score(y_test, y_pred)\n",
    "print \"Accuracy is:\"\n",
    "a_score"
   ]
  },
  {
   "cell_type": "code",
   "execution_count": 24,
   "metadata": {
    "collapsed": false
   },
   "outputs": [
    {
     "name": "stdout",
     "output_type": "stream",
     "text": [
      "Precision is:\n"
     ]
    },
    {
     "data": {
      "text/plain": [
       "0.98181818181818181"
      ]
     },
     "execution_count": 24,
     "metadata": {},
     "output_type": "execute_result"
    }
   ],
   "source": [
    "stuff = precision_recall_fscore_support(y_test, y_pred)\n",
    "print \"Precision is:\"\n",
    "stuff[0][0]"
   ]
  },
  {
   "cell_type": "code",
   "execution_count": 25,
   "metadata": {
    "collapsed": false
   },
   "outputs": [
    {
     "name": "stdout",
     "output_type": "stream",
     "text": [
      "Recall is:\n"
     ]
    },
    {
     "data": {
      "text/plain": [
       "1.0"
      ]
     },
     "execution_count": 25,
     "metadata": {},
     "output_type": "execute_result"
    }
   ],
   "source": [
    "print \"Recall is:\"\n",
    "stuff[1][0]"
   ]
  },
  {
   "cell_type": "code",
   "execution_count": 26,
   "metadata": {
    "collapsed": false
   },
   "outputs": [
    {
     "name": "stdout",
     "output_type": "stream",
     "text": [
      "F1 is:\n"
     ]
    },
    {
     "data": {
      "text/plain": [
       "0.99082568807339444"
      ]
     },
     "execution_count": 26,
     "metadata": {},
     "output_type": "execute_result"
    }
   ],
   "source": [
    "print \"F1 is:\"\n",
    "stuff[2][0]"
   ]
  },
  {
   "cell_type": "code",
   "execution_count": 28,
   "metadata": {
    "collapsed": false
   },
   "outputs": [
    {
     "name": "stdout",
     "output_type": "stream",
     "text": [
      "Accuracy is:\n",
      "0.954022988506\n",
      "Precision is:\n",
      "0.980769230769\n",
      "Recall is:\n",
      "0.944444444444\n",
      "F1 is:\n",
      "0.962264150943\n"
     ]
    }
   ],
   "source": [
    "model                   = GaussianNB()\n",
    "model.fit(x_train, y_train)\n",
    "y_pred  = model.predict(x_test)\n",
    "a_score = accuracy_score(y_test, y_pred)\n",
    "stuff = precision_recall_fscore_support(y_test, y_pred)\n",
    "print \"Accuracy is:\"\n",
    "print a_score\n",
    "print \"Precision is:\"\n",
    "print stuff[0][0]\n",
    "print \"Recall is:\"\n",
    "print stuff[1][0]\n",
    "print \"F1 is:\"\n",
    "print stuff[2][0]"
   ]
  },
  {
   "cell_type": "code",
   "execution_count": 29,
   "metadata": {
    "collapsed": false
   },
   "outputs": [
    {
     "name": "stdout",
     "output_type": "stream",
     "text": [
      "Accuracy is:\n",
      "0.965517241379\n",
      "Precision is:\n",
      "0.981132075472\n",
      "Recall is:\n",
      "0.962962962963\n",
      "F1 is:\n",
      "0.971962616822\n"
     ]
    }
   ],
   "source": [
    "from sklearn.svm import SVC\n",
    "model                   = SVC()\n",
    "model.fit(x_train, y_train)\n",
    "y_pred  = model.predict(x_test)\n",
    "a_score = accuracy_score(y_test, y_pred)\n",
    "stuff = precision_recall_fscore_support(y_test, y_pred)\n",
    "print \"Accuracy is:\"\n",
    "print a_score\n",
    "print \"Precision is:\"\n",
    "print stuff[0][0]\n",
    "print \"Recall is:\"\n",
    "print stuff[1][0]\n",
    "print \"F1 is:\"\n",
    "print stuff[2][0]"
   ]
  },
  {
   "cell_type": "code",
   "execution_count": 30,
   "metadata": {
    "collapsed": false
   },
   "outputs": [
    {
     "name": "stdout",
     "output_type": "stream",
     "text": [
      "Accuracy is:\n",
      "0.942528735632\n",
      "Precision is:\n",
      "0.980392156863\n",
      "Recall is:\n",
      "0.925925925926\n",
      "F1 is:\n",
      "0.952380952381\n"
     ]
    }
   ],
   "source": [
    "from sklearn.tree import DecisionTreeClassifier\n",
    "\n",
    "model                   = DecisionTreeClassifier()\n",
    "\n",
    "model.fit(x_train, y_train)\n",
    "y_pred  = model.predict(x_test)\n",
    "a_score = accuracy_score(y_test, y_pred)\n",
    "stuff = precision_recall_fscore_support(y_test, y_pred)\n",
    "print \"Accuracy is:\"\n",
    "print a_score\n",
    "print \"Precision is:\"\n",
    "print stuff[0][0]\n",
    "print \"Recall is:\"\n",
    "print stuff[1][0]\n",
    "print \"F1 is:\"\n",
    "print stuff[2][0]"
   ]
  },
  {
   "cell_type": "code",
   "execution_count": 31,
   "metadata": {
    "collapsed": false
   },
   "outputs": [
    {
     "name": "stdout",
     "output_type": "stream",
     "text": [
      "Accuracy is:\n",
      "0.965517241379\n",
      "Precision is:\n",
      "0.981132075472\n",
      "Recall is:\n",
      "0.962962962963\n",
      "F1 is:\n",
      "0.971962616822\n"
     ]
    }
   ],
   "source": [
    "from sklearn.ensemble import RandomForestClassifier\n",
    "\n",
    "model                   = RandomForestClassifier()\n",
    "model.fit(x_train, y_train)\n",
    "y_pred  = model.predict(x_test)\n",
    "a_score = accuracy_score(y_test, y_pred)\n",
    "stuff = precision_recall_fscore_support(y_test, y_pred)\n",
    "print \"Accuracy is:\"\n",
    "print a_score\n",
    "print \"Precision is:\"\n",
    "print stuff[0][0]\n",
    "print \"Recall is:\"\n",
    "print stuff[1][0]\n",
    "print \"F1 is:\"\n",
    "print stuff[2][0]"
   ]
  },
  {
   "cell_type": "code",
   "execution_count": null,
   "metadata": {
    "collapsed": true
   },
   "outputs": [],
   "source": [
    "# Challenge 2\n"
   ]
  }
 ],
 "metadata": {
  "kernelspec": {
   "display_name": "Python 2",
   "language": "python",
   "name": "python2"
  },
  "language_info": {
   "codemirror_mode": {
    "name": "ipython",
    "version": 2
   },
   "file_extension": ".py",
   "mimetype": "text/x-python",
   "name": "python",
   "nbconvert_exporter": "python",
   "pygments_lexer": "ipython2",
   "version": "2.7.9"
  }
 },
 "nbformat": 4,
 "nbformat_minor": 0
}
