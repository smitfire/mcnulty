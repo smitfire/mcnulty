{
 "cells": [
  {
   "cell_type": "code",
   "execution_count": 102,
   "metadata": {
    "collapsed": true
   },
   "outputs": [],
   "source": [
    "import pandas as pd\n",
    "import numpy as np\n",
    "import matplotlib.pyplot as plt\n",
    "from pprint import pprint as pp\n",
    "import csv\n",
    "import datetime\n",
    "from dateutil.parser import parse\n",
    "from pandas.tools.plotting import scatter_matrix\n",
    "from patsy import dmatrices\n",
    "import statsmodels.formula.api as smf\n",
    "from sklearn import cross_validation\n",
    "from sklearn import datasets\n",
    "from sklearn import svm\n",
    "import seaborn as sns\n",
    "import statsmodels.api as sm\n",
    "import matplotlib as mpl\n",
    "from numpy.random import randn\n",
    "from scipy import stats\n",
    "from pprint import pprint as pp\n",
    "from sklearn.cross_validation import train_test_split\n",
    "from sklearn.neighbors import KNeighborsClassifier\n",
    "from sklearn.linear_model import LogisticRegression\n",
    "from sklearn.metrics import accuracy_score\n",
    "from sklearn.tree import DecisionTreeClassifier\n",
    "from sklearn.svm import SVC\n",
    "from sklearn.ensemble import RandomForestClassifier\n",
    "from sklearn.neighbors import KNeighborsClassifier\n",
    "from sklearn.metrics import precision_recall_fscore_support\n",
    "from sklearn.metrics import roc_curve, auc\n",
    "from sklearn.naive_bayes import GaussianNB\n",
    "from sklearn.learning_curve import learning_curve\n",
    "from sklearn.cross_validation import cross_val_score\n",
    "import urllib2\n",
    "from pandas import Series\n",
    "from pandas import merge, concat\n",
    "%matplotlib inline\n",
    "\n",
    "sns.set_palette(\"deep\", desat=.8)\n",
    "sns.set_context(rc={\"figure.figsize\": (14, 8)})"
   ]
  },
  {
   "cell_type": "code",
   "execution_count": 103,
   "metadata": {
    "collapsed": false
   },
   "outputs": [
    {
     "data": {
      "text/html": [
       "<div style=\"max-height:1000px;max-width:1500px;overflow:auto;\">\n",
       "<table border=\"1\" class=\"dataframe\">\n",
       "  <thead>\n",
       "    <tr style=\"text-align: right;\">\n",
       "      <th></th>\n",
       "      <th>0</th>\n",
       "    </tr>\n",
       "  </thead>\n",
       "  <tbody>\n",
       "    <tr>\n",
       "      <th>0</th>\n",
       "      <td>        1 0 63 1 -9 -9 -9</td>\n",
       "    </tr>\n",
       "    <tr>\n",
       "      <th>1</th>\n",
       "      <td>  -9 1 145 1 233 -9 50 20</td>\n",
       "    </tr>\n",
       "    <tr>\n",
       "      <th>2</th>\n",
       "      <td>        1 -9 1 2 2 3 81 0</td>\n",
       "    </tr>\n",
       "    <tr>\n",
       "      <th>3</th>\n",
       "      <td>      0 0 0 0 1 10.5 6 13</td>\n",
       "    </tr>\n",
       "    <tr>\n",
       "      <th>4</th>\n",
       "      <td> 150 60 190 90 145 85 0 0</td>\n",
       "    </tr>\n",
       "  </tbody>\n",
       "</table>\n",
       "</div>"
      ],
      "text/plain": [
       "                          0\n",
       "0         1 0 63 1 -9 -9 -9\n",
       "1   -9 1 145 1 233 -9 50 20\n",
       "2         1 -9 1 2 2 3 81 0\n",
       "3       0 0 0 0 1 10.5 6 13\n",
       "4  150 60 190 90 145 85 0 0"
      ]
     },
     "execution_count": 103,
     "metadata": {},
     "output_type": "execute_result"
    }
   ],
   "source": [
    "url           = \"https://archive.ics.uci.edu/ml/machine-learning-databases/heart-disease/cleveland.data\"\n",
    "\n",
    "newrl         = urllib2.urlopen(url)\n",
    "newdata_df    = pd.read_csv(newrl, header=-1)\n",
    "\n",
    "newdata_df.head()"
   ]
  },
  {
   "cell_type": "code",
   "execution_count": 104,
   "metadata": {
    "collapsed": false
   },
   "outputs": [],
   "source": [
    "cleve_url = \"https://archive.ics.uci.edu/ml/machine-learning-databases/heart-disease/cleveland.data\"\n",
    "newrl = urllib2.urlopen(cleve_url)\n",
    "colus = list(range(1,15))\n",
    "cleve_df = pd.read_csv(\"switz.data\", header=None, delimiter=\"name\\n\")\n",
    "# id_data = cleve_df[0].str.strip(\"[]\").str.split(\",\").tolist()\n",
    "# df_id = pd.DataFrame(id_data, columns=colus, index=cleve_df.index, dtype=int)\n",
    "# cleve_df = cleve_df.join(df_id)\n",
    "cleve_df.columns = [\"name\"]\n",
    "r1 = cleve_df[0::10]\n",
    "r2 = cleve_df[1::10]\n",
    "r3 = cleve_df[2::10]\n",
    "r4 = cleve_df[3::10]\n",
    "r5 = cleve_df[4::10]\n",
    "r6 = cleve_df[5::10]\n",
    "r7 = cleve_df[6::10]\n",
    "r8 = cleve_df[7::10]\n",
    "r9 = cleve_df[8::10]\n",
    "r10 = cleve_df[9::10]\n",
    "# cleve_df"
   ]
  },
  {
   "cell_type": "code",
   "execution_count": 105,
   "metadata": {
    "collapsed": false
   },
   "outputs": [
    {
     "data": {
      "text/html": [
       "<div style=\"max-height:1000px;max-width:1500px;overflow:auto;\">\n",
       "<table border=\"1\" class=\"dataframe\">\n",
       "  <thead>\n",
       "    <tr style=\"text-align: right;\">\n",
       "      <th></th>\n",
       "      <th>0</th>\n",
       "    </tr>\n",
       "  </thead>\n",
       "  <tbody>\n",
       "    <tr>\n",
       "      <th>0</th>\n",
       "      <td>        1 0 63 1 -9 -9 -9</td>\n",
       "    </tr>\n",
       "    <tr>\n",
       "      <th>1</th>\n",
       "      <td>  -9 1 145 1 233 -9 50 20</td>\n",
       "    </tr>\n",
       "    <tr>\n",
       "      <th>2</th>\n",
       "      <td>        1 -9 1 2 2 3 81 0</td>\n",
       "    </tr>\n",
       "    <tr>\n",
       "      <th>3</th>\n",
       "      <td>      0 0 0 0 1 10.5 6 13</td>\n",
       "    </tr>\n",
       "    <tr>\n",
       "      <th>4</th>\n",
       "      <td> 150 60 190 90 145 85 0 0</td>\n",
       "    </tr>\n",
       "  </tbody>\n",
       "</table>\n",
       "</div>"
      ],
      "text/plain": [
       "                          0\n",
       "0         1 0 63 1 -9 -9 -9\n",
       "1   -9 1 145 1 233 -9 50 20\n",
       "2         1 -9 1 2 2 3 81 0\n",
       "3       0 0 0 0 1 10.5 6 13\n",
       "4  150 60 190 90 145 85 0 0"
      ]
     },
     "execution_count": 105,
     "metadata": {},
     "output_type": "execute_result"
    }
   ],
   "source": [
    "cleve_url = \"https://archive.ics.uci.edu/ml/machine-learning-databases/heart-disease/cleveland.data\"\n",
    "newrl = urllib2.urlopen(cleve_url)\n",
    "cleve_df = pd.read_csv(newrl, header=None)\n",
    "# cleve_df = read_table(newrl, index_col=[0,1,2])\n",
    "cleve_df.head()"
   ]
  },
  {
   "cell_type": "code",
   "execution_count": 540,
   "metadata": {
    "collapsed": true
   },
   "outputs": [],
   "source": [
    "def all_models(df):\n",
    "    models = [LogisticRegression(), GaussianNB(), DecisionTreeClassifier(max_depth=6), RandomForestClassifier(), KNeighborsClassifier(n_neighbors=11), SVC()]\n",
    "    data = []\n",
    "    x_all = df.iloc[:,1:]\n",
    "    y_all = df.iloc[:,0]\n",
    "    x_scaled = preprocessing.scale(x_all)\n",
    "    for model in models:\n",
    "        m = model\n",
    "        avg_acc = np.mean(cross_val_score(m, x_scaled, y_all, scoring='recall'))\n",
    "        avg_prec = np.mean(cross_val_score(m, x_scaled, y_all, scoring='precision'))\n",
    "        avg_rec = np.mean(cross_val_score(m, x_scaled, y_all, scoring='recall'))\n",
    "        avg_f1 = np.mean(cross_val_score(m, x_scaled, y_all, scoring='f1'))\n",
    "        \n",
    "        data.append([avg_acc,avg_prec,avg_rec,avg_f1])\n",
    "    index=['Logistic', 'Gaussian', 'DecisionTree', 'RandomForest', 'KNN', 'SVC']\n",
    "    columns = ['accuracy', 'precision', 'recall', 'F1']\n",
    "    df = pd.DataFrame(data, index=index, columns=columns)\n",
    "    return df\n",
    "\n"
   ]
  },
  {
   "cell_type": "code",
   "execution_count": 543,
   "metadata": {
    "collapsed": false
   },
   "outputs": [
    {
     "data": {
      "text/html": [
       "<div style=\"max-height:1000px;max-width:1500px;overflow:auto;\">\n",
       "<table border=\"1\" class=\"dataframe\">\n",
       "  <thead>\n",
       "    <tr style=\"text-align: right;\">\n",
       "      <th></th>\n",
       "      <th>accuracy</th>\n",
       "      <th>precision</th>\n",
       "      <th>recall</th>\n",
       "      <th>F1</th>\n",
       "    </tr>\n",
       "  </thead>\n",
       "  <tbody>\n",
       "    <tr>\n",
       "      <th>Logistic</th>\n",
       "      <td> 0.871120</td>\n",
       "      <td> 0.934029</td>\n",
       "      <td> 0.871120</td>\n",
       "      <td> 0.896510</td>\n",
       "    </tr>\n",
       "    <tr>\n",
       "      <th>Gaussian</th>\n",
       "      <td> 0.621682</td>\n",
       "      <td> 0.916284</td>\n",
       "      <td> 0.621682</td>\n",
       "      <td> 0.677467</td>\n",
       "    </tr>\n",
       "    <tr>\n",
       "      <th>DecisionTree</th>\n",
       "      <td> 0.827036</td>\n",
       "      <td> 0.929861</td>\n",
       "      <td> 0.879667</td>\n",
       "      <td> 0.877008</td>\n",
       "    </tr>\n",
       "    <tr>\n",
       "      <th>RandomForest</th>\n",
       "      <td> 0.914530</td>\n",
       "      <td> 0.938084</td>\n",
       "      <td> 0.940171</td>\n",
       "      <td> 0.934720</td>\n",
       "    </tr>\n",
       "    <tr>\n",
       "      <th>KNN</th>\n",
       "      <td> 1.000000</td>\n",
       "      <td> 0.935134</td>\n",
       "      <td> 1.000000</td>\n",
       "      <td> 0.966449</td>\n",
       "    </tr>\n",
       "    <tr>\n",
       "      <th>SVC</th>\n",
       "      <td> 1.000000</td>\n",
       "      <td> 0.935134</td>\n",
       "      <td> 1.000000</td>\n",
       "      <td> 0.966449</td>\n",
       "    </tr>\n",
       "  </tbody>\n",
       "</table>\n",
       "</div>"
      ],
      "text/plain": [
       "              accuracy  precision    recall        F1\n",
       "Logistic      0.871120   0.934029  0.871120  0.896510\n",
       "Gaussian      0.621682   0.916284  0.621682  0.677467\n",
       "DecisionTree  0.827036   0.929861  0.879667  0.877008\n",
       "RandomForest  0.914530   0.938084  0.940171  0.934720\n",
       "KNN           1.000000   0.935134  1.000000  0.966449\n",
       "SVC           1.000000   0.935134  1.000000  0.966449"
      ]
     },
     "execution_count": 543,
     "metadata": {},
     "output_type": "execute_result"
    }
   ],
   "source": [
    "tdf = pd.read_csv(\"ch.csv\")\n",
    "tdf = tdf.replace(-9, np.nan)\n",
    "tdf = tdf.fillna(tdf.mean())\n",
    "tdf[\"num\"] = tdf[\"num\"].replace(2,1).replace(3,1).replace(4,1)\n",
    "drops = [\"painloc\", \"painexer\",\"years\", \"relrest\", \"smoke\", \"rldv5\", \"id\", \"ccf\", \"lvx1\", \"pncaden\", \"exeref\", \"earlobe\", \"thalpul\", \"exerwm\", \"restwm\", \"exerckm\", \"restckm\", \"restef\", \"lvx2\", \"lvx3\", \"lvx4\", \"lvf\", \"cathef\", \"junk\",\"ekgmo\", \"ekgday\", \"proto\", \"dig\", \"prop\", \"nitr\", \"pro\", \"diuretic\", \"thalsev\", \"cmo\", \"cday\", \"lmt\", \"ladprox\", \"laddist\", \"diag\",\"cxmain\", \"ramus\", \"om1\", \"om2\", \"rcaprox\", \"rcadist\"]\n",
    "tdf = tdf.drop(drops, axis=1)\n",
    "cols = tdf.columns.tolist()\n",
    "cols = cols[-1:] + cols[:-1]\n",
    "tdf = tdf[cols]\n",
    "\n",
    "# dummies = pd.get_dummies(tdf['location'])\n",
    "\n",
    "# atom_col = [c for c in dummies.columns if '*' not in c]\n",
    "\n",
    "# for col in atom_col:\n",
    "#     tdf[col] = dummies[[c for c in dummies.columns if col in c]].sum(axis=1) \n",
    "\n",
    "\n",
    "tdf = tdf.drop([\"location\"], axis=1)\n",
    "tdf.describe()\n",
    "tdf.head(10)\n",
    "\n",
    "# tdf.mode()\n",
    "# tdf.shape\n",
    "# tdf.mean()\n",
    "# tdf.dtypes\n",
    "\n",
    "thing = all_models(tdf)\n",
    "thing"
   ]
  },
  {
   "cell_type": "code",
   "execution_count": null,
   "metadata": {
    "collapsed": true
   },
   "outputs": [],
   "source": [
    "tdf = pd.read_csv(\"ch.csv\")\n",
    "tdf = tdf.replace(-9, np.nan)\n",
    "tdf = tdf.fillna(tdf.mean())\n",
    "tdf[\"num\"] = tdf[\"num\"].replace(2,1).replace(3,1).replace(4,1)\n",
    "drops = [\"painloc\", \"painexer\",\"years\", \"relrest\", \"smoke\", \"rldv5\", \"id\", \"ccf\", \"lvx1\", \"pncaden\", \"exeref\", \"earlobe\", \"thalpul\", \"exerwm\", \"restwm\", \"exerckm\", \"restckm\", \"restef\", \"lvx2\", \"lvx3\", \"lvx4\", \"lvf\", \"cathef\", \"junk\",\"ekgmo\", \"ekgday\", \"proto\", \"dig\", \"prop\", \"nitr\", \"pro\", \"diuretic\", \"thalsev\", \"cmo\", \"cday\", \"lmt\", \"ladprox\", \"laddist\", \"diag\",\"cxmain\", \"ramus\", \"om1\", \"om2\", \"rcaprox\", \"rcadist\"]\n",
    "tdf = tdf.drop(drops, axis=1)\n",
    "cols = tdf.columns.tolist()\n",
    "cols = cols[-1:] + cols[:-1]\n",
    "tdf = tdf[cols]\n",
    "\n",
    "dummies = pd.get_dummies(tdf['location'])\n",
    "\n",
    "atom_col = [c for c in dummies.columns if '*' not in c]\n",
    "\n",
    "for col in atom_col:\n",
    "    tdf[col] = dummies[[c for c in dummies.columns if col in c]].sum(axis=1) \n",
    "\n",
    "\n",
    "tdf = tdf.drop([\"location\"], axis=1)\n",
    "tdf.describe()\n",
    "tdf.head(10)\n",
    "\n",
    "# tdf.mode()\n",
    "# tdf.shape\n",
    "# tdf.mean()\n",
    "# tdf.dtypes\n",
    "\n",
    "thing = all_models(tdf)\n",
    "thing"
   ]
  },
  {
   "cell_type": "code",
   "execution_count": 525,
   "metadata": {
    "collapsed": false
   },
   "outputs": [
    {
     "data": {
      "text/plain": [
       "array([[0, 0, 0],\n",
       "       [1, 1, 1],\n",
       "       [2, 2, 2],\n",
       "       [3, 3, 3],\n",
       "       [4, 4, 4],\n",
       "       [5, 5, 5],\n",
       "       [6, 6, 6],\n",
       "       [7, 7, 7],\n",
       "       [8, 8, 8],\n",
       "       [9, 9, 9]])"
      ]
     },
     "execution_count": 525,
     "metadata": {},
     "output_type": "execute_result"
    }
   ],
   "source": [
    "x_all = tdf.iloc[:,1:]\n",
    "y_all = tdf.iloc[:,0]\n",
    "tdf.head()\n",
    "y_all.head()\n",
    "# x_all.head()"
   ]
  },
  {
   "cell_type": "code",
   "execution_count": 531,
   "metadata": {
    "collapsed": false
   },
   "outputs": [
    {
     "data": {
      "text/plain": [
       "array([[0, 0, 0],\n",
       "       [1, 1, 1],\n",
       "       [2, 2, 2],\n",
       "       [3, 3, 3],\n",
       "       [4, 4, 4],\n",
       "       [5, 5, 5],\n",
       "       [6, 6, 6],\n",
       "       [7, 7, 7],\n",
       "       [8, 8, 8],\n",
       "       [9, 9, 9]])"
      ]
     },
     "execution_count": 531,
     "metadata": {},
     "output_type": "execute_result"
    }
   ],
   "source": [
    "x_scaled = preprocessing.scale(x_all)\n",
    "data = np.array([np.arange(10)]*3).T\n",
    "data"
   ]
  },
  {
   "cell_type": "code",
   "execution_count": 518,
   "metadata": {
    "collapsed": false
   },
   "outputs": [],
   "source": [
    "train, test = train_test_split(tdf, train_size = 0.8)\n",
    "x_train  = train.iloc[:,1:]\n",
    "y_train  = train.iloc[:,0]\n",
    "x_test   = test.iloc[:,1:]\n",
    "y_test   = test.iloc[:,0]"
   ]
  },
  {
   "cell_type": "code",
   "execution_count": 519,
   "metadata": {
    "collapsed": false
   },
   "outputs": [
    {
     "name": "stdout",
     "output_type": "stream",
     "text": [
      "Accuracy: 0.871120\n",
      "Precision: 0.934029\n",
      "Recall: 0.871120\n",
      "F1: 0.896510\n"
     ]
    }
   ],
   "source": [
    "model = LogisticRegression()\n",
    "avg_acc = np.mean(cross_val_score(model, x_scaled, y_all, scoring='recall'))\n",
    "avg_precision = np.mean(cross_val_score(model, x_scaled, y_all, scoring='precision'))\n",
    "avg_recall = np.mean(cross_val_score(model, x_scaled, y_all, scoring='recall'))\n",
    "avg_f1 = np.mean(cross_val_score(model, x_scaled, y_all, scoring='f1'))\n",
    "print \"Accuracy: %f\" % avg_acc\n",
    "print \"Precision: %f\" % avg_precision\n",
    "print \"Recall: %f\" % avg_recall\n",
    "print \"F1: %f\" % avg_f1"
   ]
  },
  {
   "cell_type": "code",
   "execution_count": 520,
   "metadata": {
    "collapsed": false
   },
   "outputs": [
    {
     "name": "stdout",
     "output_type": "stream",
     "text": [
      "Accuracy: 0.621682\n",
      "Precision: 0.916284\n",
      "Recall: 0.621682\n",
      "F1: 0.677467\n"
     ]
    }
   ],
   "source": [
    "model = GaussianNB()\n",
    "avg_acc = np.mean(cross_val_score(model, x_scaled, y_all, scoring='recall'))\n",
    "avg_precision = np.mean(cross_val_score(model, x_scaled, y_all, scoring='precision'))\n",
    "avg_recall = np.mean(cross_val_score(model, x_scaled, y_all, scoring='recall'))\n",
    "avg_f1 = np.mean(cross_val_score(model, x_scaled, y_all, scoring='f1'))\n",
    "print \"Accuracy: %f\" % avg_acc\n",
    "print \"Precision: %f\" % avg_precision\n",
    "print \"Recall: %f\" % avg_recall\n",
    "print \"F1: %f\" % avg_f1"
   ]
  },
  {
   "cell_type": "code",
   "execution_count": 521,
   "metadata": {
    "collapsed": false
   },
   "outputs": [
    {
     "name": "stdout",
     "output_type": "stream",
     "text": [
      "Accuracy: 0.844579\n",
      "Precision: 0.940278\n",
      "Recall: 0.888439\n",
      "F1: 0.886398\n"
     ]
    }
   ],
   "source": [
    "model = DecisionTreeClassifier(max_depth=6)\n",
    "avg_acc = np.mean(cross_val_score(model, x_scaled, y_all, scoring='recall'))\n",
    "avg_precision = np.mean(cross_val_score(model, x_scaled, y_all, scoring='precision'))\n",
    "avg_recall = np.mean(cross_val_score(model, x_scaled, y_all, scoring='recall'))\n",
    "avg_f1 = np.mean(cross_val_score(model, x_scaled, y_all, scoring='f1'))\n",
    "print \"Accuracy: %f\" % avg_acc\n",
    "print \"Precision: %f\" % avg_precision\n",
    "print \"Recall: %f\" % avg_recall\n",
    "print \"F1: %f\" % avg_f1"
   ]
  },
  {
   "cell_type": "code",
   "execution_count": 522,
   "metadata": {
    "collapsed": false
   },
   "outputs": [
    {
     "name": "stdout",
     "output_type": "stream",
     "text": [
      "Accuracy: 0.948268\n",
      "Precision: 0.939335\n",
      "Recall: 0.956815\n",
      "F1: 0.939271\n"
     ]
    }
   ],
   "source": [
    "model = RandomForestClassifier()\n",
    "avg_acc = np.mean(cross_val_score(model, x_all, y_all, scoring='recall'))\n",
    "avg_precision = np.mean(cross_val_score(model, x_all, y_all, scoring='precision'))\n",
    "avg_recall = np.mean(cross_val_score(model, x_all, y_all, scoring='recall'))\n",
    "avg_f1 = np.mean(cross_val_score(model, x_all, y_all, scoring='f1'))\n",
    "print \"Accuracy: %f\" % avg_acc\n",
    "print \"Precision: %f\" % avg_precision\n",
    "print \"Recall: %f\" % avg_recall\n",
    "print \"F1: %f\" % avg_f1"
   ]
  },
  {
   "cell_type": "code",
   "execution_count": 523,
   "metadata": {
    "collapsed": false
   },
   "outputs": [
    {
     "name": "stdout",
     "output_type": "stream",
     "text": [
      "Accuracy: 1.000000\n",
      "Precision: 0.935134\n",
      "Recall: 1.000000\n",
      "F1: 0.966449\n"
     ]
    }
   ],
   "source": [
    "model = KNeighborsClassifier(n_neighbors=11)\n",
    "avg_acc = np.mean(cross_val_score(model, x_scaled, y_all, scoring='recall'))\n",
    "avg_precision = np.mean(cross_val_score(model, x_scaled, y_all, scoring='precision'))\n",
    "avg_recall = np.mean(cross_val_score(model, x_scaled, y_all, scoring='recall'))\n",
    "avg_f1 = np.mean(cross_val_score(model, x_scaled, y_all, scoring='f1'))\n",
    "print \"Accuracy: %f\" % avg_acc\n",
    "print \"Precision: %f\" % avg_precision\n",
    "print \"Recall: %f\" % avg_recall\n",
    "print \"F1: %f\" % avg_f1"
   ]
  },
  {
   "cell_type": "code",
   "execution_count": 524,
   "metadata": {
    "collapsed": false
   },
   "outputs": [
    {
     "name": "stdout",
     "output_type": "stream",
     "text": [
      "Accuracy: 1.000000\n",
      "Precision: 0.935134\n",
      "Recall: 1.000000\n",
      "F1: 0.966449\n"
     ]
    }
   ],
   "source": [
    "model = SVC()\n",
    "avg_acc = np.mean(cross_val_score(model, x_scaled, y_all, scoring='recall'))\n",
    "avg_precision = np.mean(cross_val_score(model, x_scaled, y_all, scoring='precision'))\n",
    "avg_recall = np.mean(cross_val_score(model, x_scaled, y_all, scoring='recall'))\n",
    "avg_f1 = np.mean(cross_val_score(model, x_scaled, y_all, scoring='f1'))\n",
    "print \"Accuracy: %f\" % avg_acc\n",
    "print \"Precision: %f\" % avg_precision\n",
    "print \"Recall: %f\" % avg_recall\n",
    "print \"F1: %f\" % avg_f1"
   ]
  },
  {
   "cell_type": "code",
   "execution_count": null,
   "metadata": {
    "collapsed": true
   },
   "outputs": [],
   "source": []
  },
  {
   "cell_type": "code",
   "execution_count": null,
   "metadata": {
    "collapsed": true
   },
   "outputs": [],
   "source": []
  }
 ],
 "metadata": {
  "kernelspec": {
   "display_name": "Python 2",
   "language": "python",
   "name": "python2"
  },
  "language_info": {
   "codemirror_mode": {
    "name": "ipython",
    "version": 2
   },
   "file_extension": ".py",
   "mimetype": "text/x-python",
   "name": "python",
   "nbconvert_exporter": "python",
   "pygments_lexer": "ipython2",
   "version": "2.7.9"
  }
 },
 "nbformat": 4,
 "nbformat_minor": 0
}
