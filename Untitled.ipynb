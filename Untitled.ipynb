{
 "cells": [
  {
   "cell_type": "code",
   "execution_count": 1,
   "metadata": {
    "collapsed": true
   },
   "outputs": [],
   "source": [
    "import pandas as pd\n",
    "import numpy as np\n",
    "import matplotlib.pyplot as plt\n",
    "from pprint import pprint as pp\n",
    "import csv\n",
    "import datetime\n",
    "from dateutil.parser import parse\n",
    "from pandas.tools.plotting import scatter_matrix\n",
    "from patsy import dmatrices\n",
    "import statsmodels.formula.api as smf\n",
    "from sklearn import cross_validation\n",
    "from sklearn import datasets\n",
    "from sklearn import svm\n",
    "import seaborn as sns\n",
    "import statsmodels.api as sm\n",
    "import matplotlib as mpl\n",
    "from numpy.random import randn\n",
    "from scipy import stats\n",
    "from pprint import pprint as pp\n",
    "import urllib2"
   ]
  },
  {
   "cell_type": "code",
   "execution_count": 3,
   "metadata": {
    "collapsed": false
   },
   "outputs": [
    {
     "name": "stdout",
     "output_type": "stream",
     "text": [
      "3421 3147\n"
     ]
    }
   ],
   "source": [
    "congressrl = \"https://archive.ics.uci.edu/ml/machine-learning-databases/voting-records/house-votes-84.data\"\n",
    "\n",
    "newrl         = urllib2.urlopen(congressrl)\n",
    "df            = pd.read_csv(newrl, header=-1)\n",
    "\n",
    "df            = df.replace(['y'], [1])\n",
    "df            = df.replace(['n'], [0])\n",
    "cat_counts    = df.stack().value_counts()\n",
    "num_yes_votes = cat_counts[0]\n",
    "num_no_votes  = cat_counts[1]\n",
    "\n",
    "print num_no_votes,num_yes_votes"
   ]
  },
  {
   "cell_type": "code",
   "execution_count": 8,
   "metadata": {
    "collapsed": false
   },
   "outputs": [
    {
     "data": {
      "text/html": [
       "<div style=\"max-height:1000px;max-width:1500px;overflow:auto;\">\n",
       "<table border=\"1\" class=\"dataframe\">\n",
       "  <thead>\n",
       "    <tr style=\"text-align: right;\">\n",
       "      <th></th>\n",
       "      <th>0</th>\n",
       "      <th>1</th>\n",
       "      <th>2</th>\n",
       "      <th>3</th>\n",
       "      <th>4</th>\n",
       "      <th>5</th>\n",
       "      <th>6</th>\n",
       "      <th>7</th>\n",
       "      <th>8</th>\n",
       "      <th>9</th>\n",
       "      <th>10</th>\n",
       "      <th>11</th>\n",
       "      <th>12</th>\n",
       "      <th>13</th>\n",
       "      <th>14</th>\n",
       "      <th>15</th>\n",
       "      <th>16</th>\n",
       "    </tr>\n",
       "  </thead>\n",
       "  <tbody>\n",
       "    <tr>\n",
       "      <th>count</th>\n",
       "      <td>      435</td>\n",
       "      <td> 435</td>\n",
       "      <td> 435</td>\n",
       "      <td> 435</td>\n",
       "      <td> 435</td>\n",
       "      <td> 435</td>\n",
       "      <td> 435</td>\n",
       "      <td> 435</td>\n",
       "      <td> 435</td>\n",
       "      <td> 435</td>\n",
       "      <td> 435</td>\n",
       "      <td> 435</td>\n",
       "      <td> 435</td>\n",
       "      <td> 435</td>\n",
       "      <td> 435</td>\n",
       "      <td> 435</td>\n",
       "      <td> 435</td>\n",
       "    </tr>\n",
       "    <tr>\n",
       "      <th>unique</th>\n",
       "      <td>        2</td>\n",
       "      <td>   3</td>\n",
       "      <td>   3</td>\n",
       "      <td>   3</td>\n",
       "      <td>   3</td>\n",
       "      <td>   3</td>\n",
       "      <td>   3</td>\n",
       "      <td>   3</td>\n",
       "      <td>   3</td>\n",
       "      <td>   3</td>\n",
       "      <td>   3</td>\n",
       "      <td>   3</td>\n",
       "      <td>   3</td>\n",
       "      <td>   3</td>\n",
       "      <td>   3</td>\n",
       "      <td>   3</td>\n",
       "      <td>   3</td>\n",
       "    </tr>\n",
       "    <tr>\n",
       "      <th>top</th>\n",
       "      <td> democrat</td>\n",
       "      <td>   0</td>\n",
       "      <td>   1</td>\n",
       "      <td>   1</td>\n",
       "      <td>   0</td>\n",
       "      <td>   1</td>\n",
       "      <td>   1</td>\n",
       "      <td>   1</td>\n",
       "      <td>   1</td>\n",
       "      <td>   1</td>\n",
       "      <td>   1</td>\n",
       "      <td>   0</td>\n",
       "      <td>   0</td>\n",
       "      <td>   1</td>\n",
       "      <td>   1</td>\n",
       "      <td>   0</td>\n",
       "      <td>   1</td>\n",
       "    </tr>\n",
       "    <tr>\n",
       "      <th>freq</th>\n",
       "      <td>      267</td>\n",
       "      <td> 236</td>\n",
       "      <td> 195</td>\n",
       "      <td> 253</td>\n",
       "      <td> 247</td>\n",
       "      <td> 212</td>\n",
       "      <td> 272</td>\n",
       "      <td> 239</td>\n",
       "      <td> 242</td>\n",
       "      <td> 207</td>\n",
       "      <td> 216</td>\n",
       "      <td> 264</td>\n",
       "      <td> 233</td>\n",
       "      <td> 209</td>\n",
       "      <td> 248</td>\n",
       "      <td> 233</td>\n",
       "      <td> 269</td>\n",
       "    </tr>\n",
       "  </tbody>\n",
       "</table>\n",
       "</div>"
      ],
      "text/plain": [
       "              0    1    2    3    4    5    6    7    8    9    10   11   12  \\\n",
       "count        435  435  435  435  435  435  435  435  435  435  435  435  435   \n",
       "unique         2    3    3    3    3    3    3    3    3    3    3    3    3   \n",
       "top     democrat    0    1    1    0    1    1    1    1    1    1    0    0   \n",
       "freq         267  236  195  253  247  212  272  239  242  207  216  264  233   \n",
       "\n",
       "         13   14   15   16  \n",
       "count   435  435  435  435  \n",
       "unique    3    3    3    3  \n",
       "top       1    1    0    1  \n",
       "freq    209  248  233  269  "
      ]
     },
     "execution_count": 8,
     "metadata": {},
     "output_type": "execute_result"
    }
   ],
   "source": [
    "df.describe()\n"
   ]
  },
  {
   "cell_type": "code",
   "execution_count": null,
   "metadata": {
    "collapsed": true
   },
   "outputs": [],
   "source": []
  }
 ],
 "metadata": {
  "kernelspec": {
   "display_name": "Python 2",
   "language": "python",
   "name": "python2"
  },
  "language_info": {
   "codemirror_mode": {
    "name": "ipython",
    "version": 2
   },
   "file_extension": ".py",
   "mimetype": "text/x-python",
   "name": "python",
   "nbconvert_exporter": "python",
   "pygments_lexer": "ipython2",
   "version": "2.7.9"
  }
 },
 "nbformat": 4,
 "nbformat_minor": 0
}
