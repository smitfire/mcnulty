{
 "cells": [
  {
   "cell_type": "code",
   "execution_count": 1,
   "metadata": {
    "collapsed": true
   },
   "outputs": [],
   "source": [
    "import pandas as pd\n",
    "import numpy as np\n",
    "import matplotlib.pyplot as plt\n",
    "from pprint import pprint as pp\n",
    "import csv\n",
    "import datetime\n",
    "from dateutil.parser import parse\n",
    "from pandas.tools.plotting import scatter_matrix\n",
    "from patsy import dmatrices\n",
    "import statsmodels.formula.api as smf\n",
    "from sklearn import cross_validation\n",
    "from sklearn import datasets\n",
    "from sklearn import svm\n",
    "import seaborn as sns\n",
    "import statsmodels.api as sm\n",
    "import matplotlib as mpl\n",
    "from numpy.random import randn\n",
    "from scipy import stats\n",
    "from pprint import pprint as pp\n",
    "from sklearn.cross_validation import train_test_split\n",
    "from sklearn.neighbors import KNeighborsClassifier\n",
    "from sklearn.linear_model import LogisticRegression\n",
    "from sklearn.metrics import accuracy_score\n",
    "import urllib2\n",
    "\n",
    "%matplotlib inline\n",
    "\n",
    "sns.set_palette(\"deep\", desat=.8)\n",
    "sns.set_context(rc={\"figure.figsize\": (14, 8)})"
   ]
  },
  {
   "cell_type": "code",
   "execution_count": 2,
   "metadata": {
    "collapsed": false
   },
   "outputs": [
    {
     "data": {
      "text/html": [
       "<div style=\"max-height:1000px;max-width:1500px;overflow:auto;\">\n",
       "<table border=\"1\" class=\"dataframe\">\n",
       "  <thead>\n",
       "    <tr style=\"text-align: right;\">\n",
       "      <th></th>\n",
       "      <th>1 15943882 63 1 -9 -9 -9</th>\n",
       "    </tr>\n",
       "  </thead>\n",
       "  <tbody>\n",
       "    <tr>\n",
       "      <th>0</th>\n",
       "      <td> -27 1 145 1 233 -9 50 20</td>\n",
       "    </tr>\n",
       "    <tr>\n",
       "      <th>1</th>\n",
       "      <td>       1 0 1 2 2 3 1981 0</td>\n",
       "    </tr>\n",
       "    <tr>\n",
       "      <th>2</th>\n",
       "      <td>      0 0 0 0 1 10.5 6 13</td>\n",
       "    </tr>\n",
       "    <tr>\n",
       "      <th>3</th>\n",
       "      <td> 150 60 190 90 145 85 0 0</td>\n",
       "    </tr>\n",
       "    <tr>\n",
       "      <th>4</th>\n",
       "      <td>   2.3 3 -9 -9 0 -9 -9 -9</td>\n",
       "    </tr>\n",
       "  </tbody>\n",
       "</table>\n",
       "</div>"
      ],
      "text/plain": [
       "   1 15943882 63 1 -9 -9 -9\n",
       "0  -27 1 145 1 233 -9 50 20\n",
       "1        1 0 1 2 2 3 1981 0\n",
       "2       0 0 0 0 1 10.5 6 13\n",
       "3  150 60 190 90 145 85 0 0\n",
       "4    2.3 3 -9 -9 0 -9 -9 -9"
      ]
     },
     "execution_count": 2,
     "metadata": {},
     "output_type": "execute_result"
    }
   ],
   "source": [
    "url           = \"https://archive.ics.uci.edu/ml/machine-learning-databases/heart-disease/new.data\"\n",
    "\n",
    "newrl         = urllib2.urlopen(url)\n",
    "df            = pd.read_csv(newrl, header=-1)\n",
    "\n",
    "df.head()"
   ]
  },
  {
   "cell_type": "code",
   "execution_count": null,
   "metadata": {
    "collapsed": true
   },
   "outputs": [],
   "source": []
  }
 ],
 "metadata": {
  "kernelspec": {
   "display_name": "Python 2",
   "language": "python",
   "name": "python2"
  },
  "language_info": {
   "codemirror_mode": {
    "name": "ipython",
    "version": 2
   },
   "file_extension": ".py",
   "mimetype": "text/x-python",
   "name": "python",
   "nbconvert_exporter": "python",
   "pygments_lexer": "ipython2",
   "version": "2.7.9"
  }
 },
 "nbformat": 4,
 "nbformat_minor": 0
}
