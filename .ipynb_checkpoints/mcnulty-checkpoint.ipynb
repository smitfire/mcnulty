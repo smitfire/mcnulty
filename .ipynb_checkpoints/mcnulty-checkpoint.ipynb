{
 "cells": [
  {
   "cell_type": "code",
   "execution_count": 102,
   "metadata": {
    "collapsed": true
   },
   "outputs": [],
   "source": [
    "import pandas as pd\n",
    "import numpy as np\n",
    "import matplotlib.pyplot as plt\n",
    "from pprint import pprint as pp\n",
    "import csv\n",
    "import datetime\n",
    "from dateutil.parser import parse\n",
    "from pandas.tools.plotting import scatter_matrix\n",
    "from patsy import dmatrices\n",
    "import statsmodels.formula.api as smf\n",
    "from sklearn import cross_validation\n",
    "from sklearn import datasets\n",
    "from sklearn import svm\n",
    "import seaborn as sns\n",
    "import statsmodels.api as sm\n",
    "import matplotlib as mpl\n",
    "from numpy.random import randn\n",
    "from scipy import stats\n",
    "from pprint import pprint as pp\n",
    "from sklearn.cross_validation import train_test_split\n",
    "from sklearn.neighbors import KNeighborsClassifier\n",
    "from sklearn.linear_model import LogisticRegression\n",
    "from sklearn.metrics import accuracy_score\n",
    "from sklearn.tree import DecisionTreeClassifier\n",
    "from sklearn.svm import SVC\n",
    "from sklearn.ensemble import RandomForestClassifier\n",
    "from sklearn.neighbors import KNeighborsClassifier\n",
    "from sklearn.metrics import precision_recall_fscore_support\n",
    "from sklearn.metrics import roc_curve, auc\n",
    "from sklearn.naive_bayes import GaussianNB\n",
    "from sklearn.learning_curve import learning_curve\n",
    "from sklearn.cross_validation import cross_val_score\n",
    "import urllib2\n",
    "from pandas import Series\n",
    "from pandas import merge, concat\n",
    "%matplotlib inline\n",
    "\n",
    "sns.set_palette(\"deep\", desat=.8)\n",
    "sns.set_context(rc={\"figure.figsize\": (14, 8)})"
   ]
  },
  {
   "cell_type": "code",
   "execution_count": 103,
   "metadata": {
    "collapsed": false
   },
   "outputs": [
    {
     "data": {
      "text/html": [
       "<div style=\"max-height:1000px;max-width:1500px;overflow:auto;\">\n",
       "<table border=\"1\" class=\"dataframe\">\n",
       "  <thead>\n",
       "    <tr style=\"text-align: right;\">\n",
       "      <th></th>\n",
       "      <th>0</th>\n",
       "    </tr>\n",
       "  </thead>\n",
       "  <tbody>\n",
       "    <tr>\n",
       "      <th>0</th>\n",
       "      <td>        1 0 63 1 -9 -9 -9</td>\n",
       "    </tr>\n",
       "    <tr>\n",
       "      <th>1</th>\n",
       "      <td>  -9 1 145 1 233 -9 50 20</td>\n",
       "    </tr>\n",
       "    <tr>\n",
       "      <th>2</th>\n",
       "      <td>        1 -9 1 2 2 3 81 0</td>\n",
       "    </tr>\n",
       "    <tr>\n",
       "      <th>3</th>\n",
       "      <td>      0 0 0 0 1 10.5 6 13</td>\n",
       "    </tr>\n",
       "    <tr>\n",
       "      <th>4</th>\n",
       "      <td> 150 60 190 90 145 85 0 0</td>\n",
       "    </tr>\n",
       "  </tbody>\n",
       "</table>\n",
       "</div>"
      ],
      "text/plain": [
       "                          0\n",
       "0         1 0 63 1 -9 -9 -9\n",
       "1   -9 1 145 1 233 -9 50 20\n",
       "2         1 -9 1 2 2 3 81 0\n",
       "3       0 0 0 0 1 10.5 6 13\n",
       "4  150 60 190 90 145 85 0 0"
      ]
     },
     "execution_count": 103,
     "metadata": {},
     "output_type": "execute_result"
    }
   ],
   "source": [
    "url           = \"https://archive.ics.uci.edu/ml/machine-learning-databases/heart-disease/cleveland.data\"\n",
    "\n",
    "newrl         = urllib2.urlopen(url)\n",
    "newdata_df    = pd.read_csv(newrl, header=-1)\n",
    "\n",
    "newdata_df.head()"
   ]
  },
  {
   "cell_type": "code",
   "execution_count": 104,
   "metadata": {
    "collapsed": false
   },
   "outputs": [],
   "source": [
    "cleve_url = \"https://archive.ics.uci.edu/ml/machine-learning-databases/heart-disease/cleveland.data\"\n",
    "newrl = urllib2.urlopen(cleve_url)\n",
    "colus = list(range(1,15))\n",
    "cleve_df = pd.read_csv(\"switz.data\", header=None, delimiter=\"name\\n\")\n",
    "# id_data = cleve_df[0].str.strip(\"[]\").str.split(\",\").tolist()\n",
    "# df_id = pd.DataFrame(id_data, columns=colus, index=cleve_df.index, dtype=int)\n",
    "# cleve_df = cleve_df.join(df_id)\n",
    "cleve_df.columns = [\"name\"]\n",
    "r1 = cleve_df[0::10]\n",
    "r2 = cleve_df[1::10]\n",
    "r3 = cleve_df[2::10]\n",
    "r4 = cleve_df[3::10]\n",
    "r5 = cleve_df[4::10]\n",
    "r6 = cleve_df[5::10]\n",
    "r7 = cleve_df[6::10]\n",
    "r8 = cleve_df[7::10]\n",
    "r9 = cleve_df[8::10]\n",
    "r10 = cleve_df[9::10]\n",
    "# cleve_df"
   ]
  },
  {
   "cell_type": "code",
   "execution_count": 105,
   "metadata": {
    "collapsed": false
   },
   "outputs": [
    {
     "data": {
      "text/html": [
       "<div style=\"max-height:1000px;max-width:1500px;overflow:auto;\">\n",
       "<table border=\"1\" class=\"dataframe\">\n",
       "  <thead>\n",
       "    <tr style=\"text-align: right;\">\n",
       "      <th></th>\n",
       "      <th>0</th>\n",
       "    </tr>\n",
       "  </thead>\n",
       "  <tbody>\n",
       "    <tr>\n",
       "      <th>0</th>\n",
       "      <td>        1 0 63 1 -9 -9 -9</td>\n",
       "    </tr>\n",
       "    <tr>\n",
       "      <th>1</th>\n",
       "      <td>  -9 1 145 1 233 -9 50 20</td>\n",
       "    </tr>\n",
       "    <tr>\n",
       "      <th>2</th>\n",
       "      <td>        1 -9 1 2 2 3 81 0</td>\n",
       "    </tr>\n",
       "    <tr>\n",
       "      <th>3</th>\n",
       "      <td>      0 0 0 0 1 10.5 6 13</td>\n",
       "    </tr>\n",
       "    <tr>\n",
       "      <th>4</th>\n",
       "      <td> 150 60 190 90 145 85 0 0</td>\n",
       "    </tr>\n",
       "  </tbody>\n",
       "</table>\n",
       "</div>"
      ],
      "text/plain": [
       "                          0\n",
       "0         1 0 63 1 -9 -9 -9\n",
       "1   -9 1 145 1 233 -9 50 20\n",
       "2         1 -9 1 2 2 3 81 0\n",
       "3       0 0 0 0 1 10.5 6 13\n",
       "4  150 60 190 90 145 85 0 0"
      ]
     },
     "execution_count": 105,
     "metadata": {},
     "output_type": "execute_result"
    }
   ],
   "source": [
    "cleve_url = \"https://archive.ics.uci.edu/ml/machine-learning-databases/heart-disease/cleveland.data\"\n",
    "newrl = urllib2.urlopen(cleve_url)\n",
    "cleve_df = pd.read_csv(newrl, header=None)\n",
    "# cleve_df = read_table(newrl, index_col=[0,1,2])\n",
    "cleve_df.head()"
   ]
  },
  {
   "cell_type": "code",
   "execution_count": 408,
   "metadata": {
    "collapsed": false
   },
   "outputs": [
    {
     "data": {
      "text/html": [
       "<div style=\"max-height:1000px;max-width:1500px;overflow:auto;\">\n",
       "<table border=\"1\" class=\"dataframe\">\n",
       "  <thead>\n",
       "    <tr style=\"text-align: right;\">\n",
       "      <th></th>\n",
       "      <th>num</th>\n",
       "      <th>location</th>\n",
       "      <th>age</th>\n",
       "      <th>sex</th>\n",
       "      <th>cp</th>\n",
       "      <th>trestbps</th>\n",
       "      <th>htn</th>\n",
       "      <th>chol</th>\n",
       "      <th>cigs</th>\n",
       "      <th>years</th>\n",
       "      <th>...</th>\n",
       "      <th>dummy</th>\n",
       "      <th>trestbpd</th>\n",
       "      <th>exang</th>\n",
       "      <th>xhypo</th>\n",
       "      <th>oldpeak</th>\n",
       "      <th>slope</th>\n",
       "      <th>rldv5e</th>\n",
       "      <th>ca</th>\n",
       "      <th>thal</th>\n",
       "      <th>cyr</th>\n",
       "    </tr>\n",
       "  </thead>\n",
       "  <tbody>\n",
       "    <tr>\n",
       "      <th>0</th>\n",
       "      <td> 0</td>\n",
       "      <td> hungary</td>\n",
       "      <td> 40</td>\n",
       "      <td> 1</td>\n",
       "      <td> 2</td>\n",
       "      <td> 140</td>\n",
       "      <td> 0</td>\n",
       "      <td> 289.000000</td>\n",
       "      <td> 19.118998</td>\n",
       "      <td> 18.796574</td>\n",
       "      <td>...</td>\n",
       "      <td> 140</td>\n",
       "      <td> 86</td>\n",
       "      <td> 0</td>\n",
       "      <td> 0</td>\n",
       "      <td> 0.0</td>\n",
       "      <td> 1.766497</td>\n",
       "      <td> 20</td>\n",
       "      <td> 0.697595</td>\n",
       "      <td> 5.018957</td>\n",
       "      <td> 84</td>\n",
       "    </tr>\n",
       "    <tr>\n",
       "      <th>1</th>\n",
       "      <td> 1</td>\n",
       "      <td> hungary</td>\n",
       "      <td> 49</td>\n",
       "      <td> 0</td>\n",
       "      <td> 3</td>\n",
       "      <td> 160</td>\n",
       "      <td> 1</td>\n",
       "      <td> 180.000000</td>\n",
       "      <td> 19.118998</td>\n",
       "      <td> 18.796574</td>\n",
       "      <td>...</td>\n",
       "      <td> 160</td>\n",
       "      <td> 90</td>\n",
       "      <td> 0</td>\n",
       "      <td> 0</td>\n",
       "      <td> 1.0</td>\n",
       "      <td> 2.000000</td>\n",
       "      <td> 13</td>\n",
       "      <td> 0.697595</td>\n",
       "      <td> 5.018957</td>\n",
       "      <td> 84</td>\n",
       "    </tr>\n",
       "    <tr>\n",
       "      <th>2</th>\n",
       "      <td> 0</td>\n",
       "      <td> hungary</td>\n",
       "      <td> 37</td>\n",
       "      <td> 1</td>\n",
       "      <td> 2</td>\n",
       "      <td> 130</td>\n",
       "      <td> 0</td>\n",
       "      <td> 283.000000</td>\n",
       "      <td> 19.118998</td>\n",
       "      <td> 18.796574</td>\n",
       "      <td>...</td>\n",
       "      <td> 130</td>\n",
       "      <td> 80</td>\n",
       "      <td> 0</td>\n",
       "      <td> 0</td>\n",
       "      <td> 0.0</td>\n",
       "      <td> 1.766497</td>\n",
       "      <td> 14</td>\n",
       "      <td> 0.697595</td>\n",
       "      <td> 5.018957</td>\n",
       "      <td> 84</td>\n",
       "    </tr>\n",
       "    <tr>\n",
       "      <th>3</th>\n",
       "      <td> 1</td>\n",
       "      <td> hungary</td>\n",
       "      <td> 48</td>\n",
       "      <td> 0</td>\n",
       "      <td> 4</td>\n",
       "      <td> 138</td>\n",
       "      <td> 0</td>\n",
       "      <td> 214.000000</td>\n",
       "      <td> 19.118998</td>\n",
       "      <td> 18.796574</td>\n",
       "      <td>...</td>\n",
       "      <td> 138</td>\n",
       "      <td> 86</td>\n",
       "      <td> 1</td>\n",
       "      <td> 0</td>\n",
       "      <td> 1.5</td>\n",
       "      <td> 2.000000</td>\n",
       "      <td> 22</td>\n",
       "      <td> 0.697595</td>\n",
       "      <td> 5.018957</td>\n",
       "      <td> 84</td>\n",
       "    </tr>\n",
       "    <tr>\n",
       "      <th>4</th>\n",
       "      <td> 0</td>\n",
       "      <td> hungary</td>\n",
       "      <td> 54</td>\n",
       "      <td> 1</td>\n",
       "      <td> 3</td>\n",
       "      <td> 150</td>\n",
       "      <td> 0</td>\n",
       "      <td> 198.759494</td>\n",
       "      <td> 19.118998</td>\n",
       "      <td> 18.796574</td>\n",
       "      <td>...</td>\n",
       "      <td> 150</td>\n",
       "      <td> 90</td>\n",
       "      <td> 0</td>\n",
       "      <td> 1</td>\n",
       "      <td> 0.0</td>\n",
       "      <td> 1.766497</td>\n",
       "      <td>  9</td>\n",
       "      <td> 0.697595</td>\n",
       "      <td> 5.018957</td>\n",
       "      <td> 84</td>\n",
       "    </tr>\n",
       "    <tr>\n",
       "      <th>5</th>\n",
       "      <td> 0</td>\n",
       "      <td> hungary</td>\n",
       "      <td> 39</td>\n",
       "      <td> 1</td>\n",
       "      <td> 3</td>\n",
       "      <td> 120</td>\n",
       "      <td> 0</td>\n",
       "      <td> 339.000000</td>\n",
       "      <td> 19.118998</td>\n",
       "      <td> 18.796574</td>\n",
       "      <td>...</td>\n",
       "      <td> 120</td>\n",
       "      <td> 80</td>\n",
       "      <td> 0</td>\n",
       "      <td> 0</td>\n",
       "      <td> 0.0</td>\n",
       "      <td> 1.766497</td>\n",
       "      <td> 21</td>\n",
       "      <td> 0.697595</td>\n",
       "      <td> 5.018957</td>\n",
       "      <td> 84</td>\n",
       "    </tr>\n",
       "    <tr>\n",
       "      <th>6</th>\n",
       "      <td> 0</td>\n",
       "      <td> hungary</td>\n",
       "      <td> 45</td>\n",
       "      <td> 0</td>\n",
       "      <td> 2</td>\n",
       "      <td> 130</td>\n",
       "      <td> 0</td>\n",
       "      <td> 237.000000</td>\n",
       "      <td> 19.118998</td>\n",
       "      <td> 18.796574</td>\n",
       "      <td>...</td>\n",
       "      <td> 130</td>\n",
       "      <td> 84</td>\n",
       "      <td> 0</td>\n",
       "      <td> 0</td>\n",
       "      <td> 0.0</td>\n",
       "      <td> 1.766497</td>\n",
       "      <td> 11</td>\n",
       "      <td> 0.697595</td>\n",
       "      <td> 5.018957</td>\n",
       "      <td> 84</td>\n",
       "    </tr>\n",
       "    <tr>\n",
       "      <th>7</th>\n",
       "      <td> 0</td>\n",
       "      <td> hungary</td>\n",
       "      <td> 54</td>\n",
       "      <td> 1</td>\n",
       "      <td> 2</td>\n",
       "      <td> 110</td>\n",
       "      <td> 0</td>\n",
       "      <td> 208.000000</td>\n",
       "      <td> 19.118998</td>\n",
       "      <td> 18.796574</td>\n",
       "      <td>...</td>\n",
       "      <td> 110</td>\n",
       "      <td> 70</td>\n",
       "      <td> 0</td>\n",
       "      <td> 0</td>\n",
       "      <td> 0.0</td>\n",
       "      <td> 1.766497</td>\n",
       "      <td> 11</td>\n",
       "      <td> 0.697595</td>\n",
       "      <td> 5.018957</td>\n",
       "      <td> 84</td>\n",
       "    </tr>\n",
       "    <tr>\n",
       "      <th>8</th>\n",
       "      <td> 1</td>\n",
       "      <td> hungary</td>\n",
       "      <td> 37</td>\n",
       "      <td> 1</td>\n",
       "      <td> 4</td>\n",
       "      <td> 140</td>\n",
       "      <td> 1</td>\n",
       "      <td> 207.000000</td>\n",
       "      <td> 19.118998</td>\n",
       "      <td> 18.796574</td>\n",
       "      <td>...</td>\n",
       "      <td> 140</td>\n",
       "      <td> 80</td>\n",
       "      <td> 1</td>\n",
       "      <td> 0</td>\n",
       "      <td> 1.5</td>\n",
       "      <td> 2.000000</td>\n",
       "      <td> 19</td>\n",
       "      <td> 0.697595</td>\n",
       "      <td> 5.018957</td>\n",
       "      <td> 85</td>\n",
       "    </tr>\n",
       "    <tr>\n",
       "      <th>9</th>\n",
       "      <td> 0</td>\n",
       "      <td> hungary</td>\n",
       "      <td> 48</td>\n",
       "      <td> 0</td>\n",
       "      <td> 2</td>\n",
       "      <td> 120</td>\n",
       "      <td> 0</td>\n",
       "      <td> 284.000000</td>\n",
       "      <td> 19.118998</td>\n",
       "      <td> 18.796574</td>\n",
       "      <td>...</td>\n",
       "      <td> 120</td>\n",
       "      <td> 80</td>\n",
       "      <td> 0</td>\n",
       "      <td> 0</td>\n",
       "      <td> 0.0</td>\n",
       "      <td> 1.766497</td>\n",
       "      <td>  6</td>\n",
       "      <td> 0.697595</td>\n",
       "      <td> 5.018957</td>\n",
       "      <td> 85</td>\n",
       "    </tr>\n",
       "  </tbody>\n",
       "</table>\n",
       "<p>10 rows × 32 columns</p>\n",
       "</div>"
      ],
      "text/plain": [
       "   num location  age  sex  cp  trestbps  htn        chol       cigs  \\\n",
       "0    0  hungary   40    1   2       140    0  289.000000  19.118998   \n",
       "1    1  hungary   49    0   3       160    1  180.000000  19.118998   \n",
       "2    0  hungary   37    1   2       130    0  283.000000  19.118998   \n",
       "3    1  hungary   48    0   4       138    0  214.000000  19.118998   \n",
       "4    0  hungary   54    1   3       150    0  198.759494  19.118998   \n",
       "5    0  hungary   39    1   3       120    0  339.000000  19.118998   \n",
       "6    0  hungary   45    0   2       130    0  237.000000  19.118998   \n",
       "7    0  hungary   54    1   2       110    0  208.000000  19.118998   \n",
       "8    1  hungary   37    1   4       140    1  207.000000  19.118998   \n",
       "9    0  hungary   48    0   2       120    0  284.000000  19.118998   \n",
       "\n",
       "       years ...   dummy  trestbpd  exang  xhypo  oldpeak     slope  rldv5e  \\\n",
       "0  18.796574 ...     140        86      0      0      0.0  1.766497      20   \n",
       "1  18.796574 ...     160        90      0      0      1.0  2.000000      13   \n",
       "2  18.796574 ...     130        80      0      0      0.0  1.766497      14   \n",
       "3  18.796574 ...     138        86      1      0      1.5  2.000000      22   \n",
       "4  18.796574 ...     150        90      0      1      0.0  1.766497       9   \n",
       "5  18.796574 ...     120        80      0      0      0.0  1.766497      21   \n",
       "6  18.796574 ...     130        84      0      0      0.0  1.766497      11   \n",
       "7  18.796574 ...     110        70      0      0      0.0  1.766497      11   \n",
       "8  18.796574 ...     140        80      1      0      1.5  2.000000      19   \n",
       "9  18.796574 ...     120        80      0      0      0.0  1.766497       6   \n",
       "\n",
       "         ca      thal  cyr  \n",
       "0  0.697595  5.018957   84  \n",
       "1  0.697595  5.018957   84  \n",
       "2  0.697595  5.018957   84  \n",
       "3  0.697595  5.018957   84  \n",
       "4  0.697595  5.018957   84  \n",
       "5  0.697595  5.018957   84  \n",
       "6  0.697595  5.018957   84  \n",
       "7  0.697595  5.018957   84  \n",
       "8  0.697595  5.018957   85  \n",
       "9  0.697595  5.018957   85  \n",
       "\n",
       "[10 rows x 32 columns]"
      ]
     },
     "execution_count": 408,
     "metadata": {},
     "output_type": "execute_result"
    }
   ],
   "source": [
    "tdf = pd.read_csv(\"total2.csv\")\n",
    "tdf = tdf.replace(-9, np.nan)\n",
    "tdf = tdf.fillna(tdf.mean())\n",
    "tdf[\"num\"] = tdf[\"num\"].replace(2,1).replace(3,1).replace(4,1)\n",
    "drops = [\"painloc\", \"location\", \"painexer\",\"relrest\", \"smoke\", \"rldv5\", \"id\", \"ccf\", \"lvx1\", \"pncaden\", \"exeref\", \"earlobe\", \"thalpul\", \"exerwm\", \"restwm\", \"exerckm\", \"restckm\", \"restef\", \"lvx2\", \"lvx3\", \"lvx4\", \"lvf\", \"cathef\", \"junk\",\"ekgmo\", \"ekgday\", \"proto\", \"dig\", \"prop\", \"nitr\", \"pro\", \"diuretic\", \"thalsev\", \"cmo\", \"cday\", \"lmt\", \"ladprox\", \"laddist\", \"diag\",\"cxmain\", \"ramus\", \"om1\", \"om2\", \"rcaprox\", \"rcadist\"]\n",
    "tdf = tdf.drop(drops, axis=1)\n",
    "cols = tdf.columns.tolist()\n",
    "cols = cols[-1:] + cols[:-1]\n",
    "tdf = tdf[cols]\n",
    "\n",
    "# tdf.describe()\n",
    "tdf.head(10)\n",
    "# tdf.mode()\n",
    "# tdf.shape\n",
    "# tdf.mean()\n",
    "# tdf.dtypes"
   ]
  },
  {
   "cell_type": "code",
   "execution_count": 409,
   "metadata": {
    "collapsed": false
   },
   "outputs": [
    {
     "data": {
      "text/plain": [
       "0    0\n",
       "1    1\n",
       "2    0\n",
       "3    1\n",
       "4    0\n",
       "Name: num, dtype: int64"
      ]
     },
     "execution_count": 409,
     "metadata": {},
     "output_type": "execute_result"
    }
   ],
   "source": [
    "x_all = tdf.iloc[:,1:]\n",
    "y_all = tdf.iloc[:,0]\n",
    "tdf.head()\n",
    "y_all.head()\n",
    "# x_all.head()"
   ]
  },
  {
   "cell_type": "code",
   "execution_count": 410,
   "metadata": {
    "collapsed": false
   },
   "outputs": [
    {
     "name": "stderr",
     "output_type": "stream",
     "text": [
      "/usr/local/lib/python2.7/site-packages/sklearn/utils/validation.py:493: UserWarning: The scale function assumes floating point values as input, got object\n",
      "  \"got %s\" % (estimator, X.dtype))\n"
     ]
    },
    {
     "ename": "TypeError",
     "evalue": "unsupported operand type(s) for /: 'str' and 'int'",
     "output_type": "error",
     "traceback": [
      "\u001b[0;31m---------------------------------------------------------------------------\u001b[0m",
      "\u001b[0;31mTypeError\u001b[0m                                 Traceback (most recent call last)",
      "\u001b[0;32m<ipython-input-410-e2d410811ed9>\u001b[0m in \u001b[0;36m<module>\u001b[0;34m()\u001b[0m\n\u001b[0;32m----> 1\u001b[0;31m \u001b[0mx_scaled\u001b[0m \u001b[0;34m=\u001b[0m \u001b[0mpreprocessing\u001b[0m\u001b[0;34m.\u001b[0m\u001b[0mscale\u001b[0m\u001b[0;34m(\u001b[0m\u001b[0mx_all\u001b[0m\u001b[0;34m)\u001b[0m\u001b[0;34m\u001b[0m\u001b[0m\n\u001b[0m",
      "\u001b[0;32m/usr/local/lib/python2.7/site-packages/sklearn/preprocessing/data.pyc\u001b[0m in \u001b[0;36mscale\u001b[0;34m(X, axis, with_mean, with_std, copy)\u001b[0m\n\u001b[1;32m    136\u001b[0m         \u001b[0mX\u001b[0m \u001b[0;34m=\u001b[0m \u001b[0mnp\u001b[0m\u001b[0;34m.\u001b[0m\u001b[0masarray\u001b[0m\u001b[0;34m(\u001b[0m\u001b[0mX\u001b[0m\u001b[0;34m)\u001b[0m\u001b[0;34m\u001b[0m\u001b[0m\n\u001b[1;32m    137\u001b[0m         mean_, std_ = _mean_and_std(\n\u001b[0;32m--> 138\u001b[0;31m             X, axis, with_mean=with_mean, with_std=with_std)\n\u001b[0m\u001b[1;32m    139\u001b[0m         \u001b[0;32mif\u001b[0m \u001b[0mcopy\u001b[0m\u001b[0;34m:\u001b[0m\u001b[0;34m\u001b[0m\u001b[0m\n\u001b[1;32m    140\u001b[0m             \u001b[0mX\u001b[0m \u001b[0;34m=\u001b[0m \u001b[0mX\u001b[0m\u001b[0;34m.\u001b[0m\u001b[0mcopy\u001b[0m\u001b[0;34m(\u001b[0m\u001b[0;34m)\u001b[0m\u001b[0;34m\u001b[0m\u001b[0m\n",
      "\u001b[0;32m/usr/local/lib/python2.7/site-packages/sklearn/preprocessing/data.pyc\u001b[0m in \u001b[0;36m_mean_and_std\u001b[0;34m(X, axis, with_mean, with_std)\u001b[0m\n\u001b[1;32m     53\u001b[0m \u001b[0;34m\u001b[0m\u001b[0m\n\u001b[1;32m     54\u001b[0m     \u001b[0;32mif\u001b[0m \u001b[0mwith_mean\u001b[0m\u001b[0;34m:\u001b[0m\u001b[0;34m\u001b[0m\u001b[0m\n\u001b[0;32m---> 55\u001b[0;31m         \u001b[0mmean_\u001b[0m \u001b[0;34m=\u001b[0m \u001b[0mXr\u001b[0m\u001b[0;34m.\u001b[0m\u001b[0mmean\u001b[0m\u001b[0;34m(\u001b[0m\u001b[0maxis\u001b[0m\u001b[0;34m=\u001b[0m\u001b[0;36m0\u001b[0m\u001b[0;34m)\u001b[0m\u001b[0;34m\u001b[0m\u001b[0m\n\u001b[0m\u001b[1;32m     56\u001b[0m     \u001b[0;32melse\u001b[0m\u001b[0;34m:\u001b[0m\u001b[0;34m\u001b[0m\u001b[0m\n\u001b[1;32m     57\u001b[0m         \u001b[0mmean_\u001b[0m \u001b[0;34m=\u001b[0m \u001b[0mNone\u001b[0m\u001b[0;34m\u001b[0m\u001b[0m\n",
      "\u001b[0;32m/usr/local/lib/python2.7/site-packages/numpy/core/_methods.pyc\u001b[0m in \u001b[0;36m_mean\u001b[0;34m(a, axis, dtype, out, keepdims)\u001b[0m\n\u001b[1;32m     67\u001b[0m     \u001b[0;32mif\u001b[0m \u001b[0misinstance\u001b[0m\u001b[0;34m(\u001b[0m\u001b[0mret\u001b[0m\u001b[0;34m,\u001b[0m \u001b[0mmu\u001b[0m\u001b[0;34m.\u001b[0m\u001b[0mndarray\u001b[0m\u001b[0;34m)\u001b[0m\u001b[0;34m:\u001b[0m\u001b[0;34m\u001b[0m\u001b[0m\n\u001b[1;32m     68\u001b[0m         ret = um.true_divide(\n\u001b[0;32m---> 69\u001b[0;31m                 ret, rcount, out=ret, casting='unsafe', subok=False)\n\u001b[0m\u001b[1;32m     70\u001b[0m     \u001b[0;32melif\u001b[0m \u001b[0mhasattr\u001b[0m\u001b[0;34m(\u001b[0m\u001b[0mret\u001b[0m\u001b[0;34m,\u001b[0m \u001b[0;34m'dtype'\u001b[0m\u001b[0;34m)\u001b[0m\u001b[0;34m:\u001b[0m\u001b[0;34m\u001b[0m\u001b[0m\n\u001b[1;32m     71\u001b[0m         \u001b[0mret\u001b[0m \u001b[0;34m=\u001b[0m \u001b[0mret\u001b[0m\u001b[0;34m.\u001b[0m\u001b[0mdtype\u001b[0m\u001b[0;34m.\u001b[0m\u001b[0mtype\u001b[0m\u001b[0;34m(\u001b[0m\u001b[0mret\u001b[0m \u001b[0;34m/\u001b[0m \u001b[0mrcount\u001b[0m\u001b[0;34m)\u001b[0m\u001b[0;34m\u001b[0m\u001b[0m\n",
      "\u001b[0;31mTypeError\u001b[0m: unsupported operand type(s) for /: 'str' and 'int'"
     ]
    }
   ],
   "source": [
    "x_scaled = preprocessing.scale(x_all)"
   ]
  },
  {
   "cell_type": "code",
   "execution_count": 382,
   "metadata": {
    "collapsed": false
   },
   "outputs": [],
   "source": [
    "train, test = train_test_split(tdf, train_size = 0.8)\n",
    "x_train  = train.iloc[:,1:]\n",
    "y_train  = train.iloc[:,0]\n",
    "x_test   = test.iloc[:,1:]\n",
    "y_test   = test.iloc[:,0]"
   ]
  },
  {
   "cell_type": "code",
   "execution_count": 405,
   "metadata": {
    "collapsed": false
   },
   "outputs": [
    {
     "name": "stdout",
     "output_type": "stream",
     "text": [
      "Accuracy: 0.674747\n",
      "Precision: 0.869305\n",
      "Recall: 0.674747\n",
      "F1: 0.723383\n"
     ]
    }
   ],
   "source": [
    "model = LogisticRegression()\n",
    "avg_acc = np.mean(cross_val_score(model, x_scaled, y_all, scoring='recall'))\n",
    "avg_precision = np.mean(cross_val_score(model, x_scaled, y_all, scoring='precision'))\n",
    "avg_recall = np.mean(cross_val_score(model, x_scaled, y_all, scoring='recall'))\n",
    "avg_f1 = np.mean(cross_val_score(model, x_scaled, y_all, scoring='f1'))\n",
    "print \"Accuracy: %f\" % avg_acc\n",
    "print \"Precision: %f\" % avg_precision\n",
    "print \"Recall: %f\" % avg_recall\n",
    "print \"F1: %f\" % avg_f1"
   ]
  },
  {
   "cell_type": "code",
   "execution_count": 404,
   "metadata": {
    "collapsed": false
   },
   "outputs": [
    {
     "name": "stdout",
     "output_type": "stream",
     "text": [
      "Accuracy: 0.565657\n",
      "Precision: 0.876463\n",
      "Recall: 0.565657\n",
      "F1: 0.627062\n"
     ]
    }
   ],
   "source": [
    "model = GaussianNB()\n",
    "avg_acc = np.mean(cross_val_score(model, x_scaled, y_all, scoring='recall'))\n",
    "avg_precision = np.mean(cross_val_score(model, x_scaled, y_all, scoring='precision'))\n",
    "avg_recall = np.mean(cross_val_score(model, x_scaled, y_all, scoring='recall'))\n",
    "avg_f1 = np.mean(cross_val_score(model, x_scaled, y_all, scoring='f1'))\n",
    "print \"Accuracy: %f\" % avg_acc\n",
    "print \"Precision: %f\" % avg_precision\n",
    "print \"Recall: %f\" % avg_recall\n",
    "print \"F1: %f\" % avg_f1"
   ]
  },
  {
   "cell_type": "code",
   "execution_count": 402,
   "metadata": {
    "collapsed": false
   },
   "outputs": [
    {
     "name": "stdout",
     "output_type": "stream",
     "text": [
      "Accuracy: 0.767677\n",
      "Precision: 0.791474\n",
      "Recall: 0.773737\n",
      "F1: 0.741635\n"
     ]
    }
   ],
   "source": [
    "model = DecisionTreeClassifier(max_depth=6)\n",
    "avg_acc = np.mean(cross_val_score(model, x_all, y_all, scoring='recall'))\n",
    "avg_precision = np.mean(cross_val_score(model, x_all, y_all, scoring='precision'))\n",
    "avg_recall = np.mean(cross_val_score(model, x_all, y_all, scoring='recall'))\n",
    "avg_f1 = np.mean(cross_val_score(model, x_all, y_all, scoring='f1'))\n",
    "print \"Accuracy: %f\" % avg_acc\n",
    "print \"Precision: %f\" % avg_precision\n",
    "print \"Recall: %f\" % avg_recall\n",
    "print \"F1: %f\" % avg_f1"
   ]
  },
  {
   "cell_type": "code",
   "execution_count": 395,
   "metadata": {
    "collapsed": false
   },
   "outputs": [
    {
     "name": "stdout",
     "output_type": "stream",
     "text": [
      "Accuracy: 0.624242\n",
      "Precision: 0.853849\n",
      "Recall: 0.632323\n",
      "F1: 0.662117\n"
     ]
    }
   ],
   "source": [
    "model = RandomForestClassifier()\n",
    "avg_acc = np.mean(cross_val_score(model, x_all, y_all, scoring='recall'))\n",
    "avg_precision = np.mean(cross_val_score(model, x_all, y_all, scoring='precision'))\n",
    "avg_recall = np.mean(cross_val_score(model, x_all, y_all, scoring='recall'))\n",
    "avg_f1 = np.mean(cross_val_score(model, x_all, y_all, scoring='f1'))\n",
    "print \"Accuracy: %f\" % avg_acc\n",
    "print \"Precision: %f\" % avg_precision\n",
    "print \"Recall: %f\" % avg_recall\n",
    "print \"F1: %f\" % avg_f1"
   ]
  },
  {
   "cell_type": "code",
   "execution_count": 394,
   "metadata": {
    "collapsed": false
   },
   "outputs": [
    {
     "name": "stdout",
     "output_type": "stream",
     "text": [
      "Accuracy: 0.723232\n",
      "Precision: 0.845777\n",
      "Recall: 0.723232\n",
      "F1: 0.752443\n"
     ]
    }
   ],
   "source": [
    "model = KNeighborsClassifier(n_neighbors=11)\n",
    "avg_acc = np.mean(cross_val_score(model, x_scaled, y_all, scoring='recall'))\n",
    "avg_precision = np.mean(cross_val_score(model, x_scaled, y_all, scoring='precision'))\n",
    "avg_recall = np.mean(cross_val_score(model, x_scaled, y_all, scoring='recall'))\n",
    "avg_f1 = np.mean(cross_val_score(model, x_scaled, y_all, scoring='f1'))\n",
    "print \"Accuracy: %f\" % avg_acc\n",
    "print \"Precision: %f\" % avg_precision\n",
    "print \"Recall: %f\" % avg_recall\n",
    "print \"F1: %f\" % avg_f1"
   ]
  },
  {
   "cell_type": "code",
   "execution_count": 406,
   "metadata": {
    "collapsed": false
   },
   "outputs": [
    {
     "name": "stdout",
     "output_type": "stream",
     "text": [
      "Accuracy: 0.777778\n",
      "Precision: 0.849546\n",
      "Recall: 0.777778\n",
      "F1: 0.797781\n"
     ]
    }
   ],
   "source": [
    "model = SVC()\n",
    "avg_acc = np.mean(cross_val_score(model, x_scaled, y_all, scoring='recall'))\n",
    "avg_precision = np.mean(cross_val_score(model, x_scaled, y_all, scoring='precision'))\n",
    "avg_recall = np.mean(cross_val_score(model, x_scaled, y_all, scoring='recall'))\n",
    "avg_f1 = np.mean(cross_val_score(model, x_scaled, y_all, scoring='f1'))\n",
    "print \"Accuracy: %f\" % avg_acc\n",
    "print \"Precision: %f\" % avg_precision\n",
    "print \"Recall: %f\" % avg_recall\n",
    "print \"F1: %f\" % avg_f1"
   ]
  },
  {
   "cell_type": "code",
   "execution_count": null,
   "metadata": {
    "collapsed": true
   },
   "outputs": [],
   "source": []
  },
  {
   "cell_type": "code",
   "execution_count": null,
   "metadata": {
    "collapsed": true
   },
   "outputs": [],
   "source": []
  }
 ],
 "metadata": {
  "kernelspec": {
   "display_name": "Python 2",
   "language": "python",
   "name": "python2"
  },
  "language_info": {
   "codemirror_mode": {
    "name": "ipython",
    "version": 2
   },
   "file_extension": ".py",
   "mimetype": "text/x-python",
   "name": "python",
   "nbconvert_exporter": "python",
   "pygments_lexer": "ipython2",
   "version": "2.7.9"
  }
 },
 "nbformat": 4,
 "nbformat_minor": 0
}
